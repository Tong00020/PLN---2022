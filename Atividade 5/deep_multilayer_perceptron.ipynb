{
  "cells": [
    {
      "cell_type": "markdown",
      "metadata": {
        "id": "cfJejcRjncwt"
      },
      "source": [
        "- Regressão logística\n",
        "- Redes Neurais Artificiais Profundas:\n",
        "1. M1 DNN\n",
        "2. M2 DNN\n",
        "- SVM"
      ]
    },
    {
      "cell_type": "markdown",
      "metadata": {
        "id": "FYBPkVJHt8rS"
      },
      "source": [
        "1. treinamento 2. validação 3. testes(avaliação final)\n",
        "\n",
        "Amostra: n instâncias\n",
        "validação: fáceis de reconhecer\n",
        "testes: difíceis de reconhecer"
      ]
    },
    {
      "cell_type": "markdown",
      "metadata": {
        "id": "Bk2qUXGqt-nb"
      },
      "source": [
        "testes vs validação\n",
        "Testes: avaliação final\n",
        "Validação: vem sempre depois do treinamento"
      ]
    },
    {
      "cell_type": "code",
      "execution_count": null,
      "metadata": {
        "id": "aKinPEPHmkW5"
      },
      "outputs": [],
      "source": [
        "#!pip install keras\n",
        "#!pip install tensorflow"
      ]
    },
    {
      "cell_type": "code",
      "execution_count": null,
      "metadata": {
        "id": "JWz-py12m6sh"
      },
      "outputs": [],
      "source": [
        "import pandas as pd\n",
        "from keras.models import Sequential\n",
        "from keras.layers import Dense\n",
        "from sklearn.feature_extraction.text import TfidfVectorizer\n",
        "from tensorflow.keras.optimizers import SGD\n",
        "from keras.utils.np_utils import to_categorical\n",
        "import matplotlib.pyplot as plt"
      ]
    },
    {
      "cell_type": "code",
      "execution_count": null,
      "metadata": {
        "id": "sbMsfSdNm9hL"
      },
      "outputs": [],
      "source": [
        "path_train = 'https://raw.githubusercontent.com/viniciusrpb/cic0269_natural_language_processing/main/datasets/corpora/tweets_polarity_classification/twitter-2013train-A.txt'\n",
        "path_test = 'https://raw.githubusercontent.com/viniciusrpb/cic0269_natural_language_processing/main/datasets/corpora/tweets_polarity_classification/twitter-2013test-A.txt'\n",
        "path_valid = 'https://raw.githubusercontent.com/viniciusrpb/cic0269_natural_language_processing/main/datasets/corpora/tweets_polarity_classification/twitter-2013dev-A.txt'\n"
      ]
    },
    {
      "cell_type": "code",
      "execution_count": null,
      "metadata": {
        "id": "mpyjYPzvm_50"
      },
      "outputs": [],
      "source": [
        "df_train = pd.read_csv(path_train,names=['id','polarity','text'],sep='\\t')\n",
        "df_valid = pd.read_csv(path_valid,names=['id','polarity','text'],sep='\\t')\n",
        "df_test = pd.read_csv(path_test,names=['id','polarity','text'],sep='\\t')"
      ]
    },
    {
      "cell_type": "code",
      "execution_count": null,
      "metadata": {
        "colab": {
          "base_uri": "https://localhost:8080/",
          "height": 424
        },
        "id": "cHHdVUHinCbz",
        "outputId": "afb965e0-555f-4d72-c195-d5f9756eddba"
      },
      "outputs": [
        {
          "data": {
            "text/html": [
              "\n",
              "  <div id=\"df-49e68754-b06e-4333-8cd5-529bbd21c500\">\n",
              "    <div class=\"colab-df-container\">\n",
              "      <div>\n",
              "<style scoped>\n",
              "    .dataframe tbody tr th:only-of-type {\n",
              "        vertical-align: middle;\n",
              "    }\n",
              "\n",
              "    .dataframe tbody tr th {\n",
              "        vertical-align: top;\n",
              "    }\n",
              "\n",
              "    .dataframe thead th {\n",
              "        text-align: right;\n",
              "    }\n",
              "</style>\n",
              "<table border=\"1\" class=\"dataframe\">\n",
              "  <thead>\n",
              "    <tr style=\"text-align: right;\">\n",
              "      <th></th>\n",
              "      <th>id</th>\n",
              "      <th>polarity</th>\n",
              "      <th>text</th>\n",
              "    </tr>\n",
              "  </thead>\n",
              "  <tbody>\n",
              "    <tr>\n",
              "      <th>0</th>\n",
              "      <td>264238274963451904</td>\n",
              "      <td>positive</td>\n",
              "      <td>@jjuueellzz down in the Atlantic city, ventnor...</td>\n",
              "    </tr>\n",
              "    <tr>\n",
              "      <th>1</th>\n",
              "      <td>218775148495515649</td>\n",
              "      <td>positive</td>\n",
              "      <td>Musical awareness: Great Big Beautiful Tomorro...</td>\n",
              "    </tr>\n",
              "    <tr>\n",
              "      <th>2</th>\n",
              "      <td>258965201766998017</td>\n",
              "      <td>neutral</td>\n",
              "      <td>On Radio786 100.4fm 7:10 Fri Oct 19 Labour ana...</td>\n",
              "    </tr>\n",
              "    <tr>\n",
              "      <th>3</th>\n",
              "      <td>262926411352903682</td>\n",
              "      <td>negative</td>\n",
              "      <td>Kapan sih lo ngebuktiin,jan ngomong doang Susa...</td>\n",
              "    </tr>\n",
              "    <tr>\n",
              "      <th>4</th>\n",
              "      <td>171874368908050432</td>\n",
              "      <td>neutral</td>\n",
              "      <td>Excuse the connectivity of this live stream, f...</td>\n",
              "    </tr>\n",
              "    <tr>\n",
              "      <th>...</th>\n",
              "      <td>...</td>\n",
              "      <td>...</td>\n",
              "      <td>...</td>\n",
              "    </tr>\n",
              "    <tr>\n",
              "      <th>3542</th>\n",
              "      <td>264233437060288512</td>\n",
              "      <td>negative</td>\n",
              "      <td>Khaleda Zia's present India visit may have a b...</td>\n",
              "    </tr>\n",
              "    <tr>\n",
              "      <th>3543</th>\n",
              "      <td>263779058284904448</td>\n",
              "      <td>neutral</td>\n",
              "      <td>FYI, golf fans: @jameslepp will join Moj on We...</td>\n",
              "    </tr>\n",
              "    <tr>\n",
              "      <th>3544</th>\n",
              "      <td>250744453831213056</td>\n",
              "      <td>negative</td>\n",
              "      <td>@__Aniko you think mr.Calle let practice with ...</td>\n",
              "    </tr>\n",
              "    <tr>\n",
              "      <th>3545</th>\n",
              "      <td>258679974591090688</td>\n",
              "      <td>positive</td>\n",
              "      <td>Don't hide under your desk! It's just a salsa ...</td>\n",
              "    </tr>\n",
              "    <tr>\n",
              "      <th>3546</th>\n",
              "      <td>243018372453916674</td>\n",
              "      <td>neutral</td>\n",
              "      <td>Saturday flashmob on the music of The Runaways...</td>\n",
              "    </tr>\n",
              "  </tbody>\n",
              "</table>\n",
              "<p>3547 rows × 3 columns</p>\n",
              "</div>\n",
              "      <button class=\"colab-df-convert\" onclick=\"convertToInteractive('df-49e68754-b06e-4333-8cd5-529bbd21c500')\"\n",
              "              title=\"Convert this dataframe to an interactive table.\"\n",
              "              style=\"display:none;\">\n",
              "        \n",
              "  <svg xmlns=\"http://www.w3.org/2000/svg\" height=\"24px\"viewBox=\"0 0 24 24\"\n",
              "       width=\"24px\">\n",
              "    <path d=\"M0 0h24v24H0V0z\" fill=\"none\"/>\n",
              "    <path d=\"M18.56 5.44l.94 2.06.94-2.06 2.06-.94-2.06-.94-.94-2.06-.94 2.06-2.06.94zm-11 1L8.5 8.5l.94-2.06 2.06-.94-2.06-.94L8.5 2.5l-.94 2.06-2.06.94zm10 10l.94 2.06.94-2.06 2.06-.94-2.06-.94-.94-2.06-.94 2.06-2.06.94z\"/><path d=\"M17.41 7.96l-1.37-1.37c-.4-.4-.92-.59-1.43-.59-.52 0-1.04.2-1.43.59L10.3 9.45l-7.72 7.72c-.78.78-.78 2.05 0 2.83L4 21.41c.39.39.9.59 1.41.59.51 0 1.02-.2 1.41-.59l7.78-7.78 2.81-2.81c.8-.78.8-2.07 0-2.86zM5.41 20L4 18.59l7.72-7.72 1.47 1.35L5.41 20z\"/>\n",
              "  </svg>\n",
              "      </button>\n",
              "      \n",
              "  <style>\n",
              "    .colab-df-container {\n",
              "      display:flex;\n",
              "      flex-wrap:wrap;\n",
              "      gap: 12px;\n",
              "    }\n",
              "\n",
              "    .colab-df-convert {\n",
              "      background-color: #E8F0FE;\n",
              "      border: none;\n",
              "      border-radius: 50%;\n",
              "      cursor: pointer;\n",
              "      display: none;\n",
              "      fill: #1967D2;\n",
              "      height: 32px;\n",
              "      padding: 0 0 0 0;\n",
              "      width: 32px;\n",
              "    }\n",
              "\n",
              "    .colab-df-convert:hover {\n",
              "      background-color: #E2EBFA;\n",
              "      box-shadow: 0px 1px 2px rgba(60, 64, 67, 0.3), 0px 1px 3px 1px rgba(60, 64, 67, 0.15);\n",
              "      fill: #174EA6;\n",
              "    }\n",
              "\n",
              "    [theme=dark] .colab-df-convert {\n",
              "      background-color: #3B4455;\n",
              "      fill: #D2E3FC;\n",
              "    }\n",
              "\n",
              "    [theme=dark] .colab-df-convert:hover {\n",
              "      background-color: #434B5C;\n",
              "      box-shadow: 0px 1px 3px 1px rgba(0, 0, 0, 0.15);\n",
              "      filter: drop-shadow(0px 1px 2px rgba(0, 0, 0, 0.3));\n",
              "      fill: #FFFFFF;\n",
              "    }\n",
              "  </style>\n",
              "\n",
              "      <script>\n",
              "        const buttonEl =\n",
              "          document.querySelector('#df-49e68754-b06e-4333-8cd5-529bbd21c500 button.colab-df-convert');\n",
              "        buttonEl.style.display =\n",
              "          google.colab.kernel.accessAllowed ? 'block' : 'none';\n",
              "\n",
              "        async function convertToInteractive(key) {\n",
              "          const element = document.querySelector('#df-49e68754-b06e-4333-8cd5-529bbd21c500');\n",
              "          const dataTable =\n",
              "            await google.colab.kernel.invokeFunction('convertToInteractive',\n",
              "                                                     [key], {});\n",
              "          if (!dataTable) return;\n",
              "\n",
              "          const docLinkHtml = 'Like what you see? Visit the ' +\n",
              "            '<a target=\"_blank\" href=https://colab.research.google.com/notebooks/data_table.ipynb>data table notebook</a>'\n",
              "            + ' to learn more about interactive tables.';\n",
              "          element.innerHTML = '';\n",
              "          dataTable['output_type'] = 'display_data';\n",
              "          await google.colab.output.renderOutput(dataTable, element);\n",
              "          const docLink = document.createElement('div');\n",
              "          docLink.innerHTML = docLinkHtml;\n",
              "          element.appendChild(docLink);\n",
              "        }\n",
              "      </script>\n",
              "    </div>\n",
              "  </div>\n",
              "  "
            ],
            "text/plain": [
              "                      id  polarity  \\\n",
              "0     264238274963451904  positive   \n",
              "1     218775148495515649  positive   \n",
              "2     258965201766998017   neutral   \n",
              "3     262926411352903682  negative   \n",
              "4     171874368908050432   neutral   \n",
              "...                  ...       ...   \n",
              "3542  264233437060288512  negative   \n",
              "3543  263779058284904448   neutral   \n",
              "3544  250744453831213056  negative   \n",
              "3545  258679974591090688  positive   \n",
              "3546  243018372453916674   neutral   \n",
              "\n",
              "                                                   text  \n",
              "0     @jjuueellzz down in the Atlantic city, ventnor...  \n",
              "1     Musical awareness: Great Big Beautiful Tomorro...  \n",
              "2     On Radio786 100.4fm 7:10 Fri Oct 19 Labour ana...  \n",
              "3     Kapan sih lo ngebuktiin,jan ngomong doang Susa...  \n",
              "4     Excuse the connectivity of this live stream, f...  \n",
              "...                                                 ...  \n",
              "3542  Khaleda Zia's present India visit may have a b...  \n",
              "3543  FYI, golf fans: @jameslepp will join Moj on We...  \n",
              "3544  @__Aniko you think mr.Calle let practice with ...  \n",
              "3545  Don't hide under your desk! It's just a salsa ...  \n",
              "3546  Saturday flashmob on the music of The Runaways...  \n",
              "\n",
              "[3547 rows x 3 columns]"
            ]
          },
          "execution_count": 6,
          "metadata": {},
          "output_type": "execute_result"
        }
      ],
      "source": [
        "df_test"
      ]
    },
    {
      "cell_type": "code",
      "execution_count": null,
      "metadata": {
        "colab": {
          "base_uri": "https://localhost:8080/"
        },
        "id": "gPDd2HRhnEX7",
        "outputId": "328f3d98-6138-401c-f75b-4d1e80321796"
      },
      "outputs": [
        {
          "name": "stdout",
          "output_type": "stream",
          "text": [
            "Train size (9684, 3)\n",
            "Valid size (1654, 3)\n",
            "Test size (3547, 3)\n"
          ]
        }
      ],
      "source": [
        "print(f'Train size {df_train.shape}')\n",
        "print(f'Valid size {df_valid.shape}')\n",
        "print(f'Test size {df_test.shape}')"
      ]
    },
    {
      "cell_type": "code",
      "execution_count": null,
      "metadata": {
        "id": "fsC22RlwnHWb"
      },
      "outputs": [],
      "source": [
        "df_train = df_train.drop(labels=['id'],axis=1)\n",
        "df_valid = df_valid.drop(labels=['id'],axis=1)\n",
        "df_test = df_test.drop(labels=['id'],axis=1)"
      ]
    },
    {
      "cell_type": "code",
      "execution_count": null,
      "metadata": {
        "id": "opG0h4w1oVFD"
      },
      "outputs": [],
      "source": [
        "vectorizer = TfidfVectorizer(norm=None,lowercase=True,stop_words=\"english\",max_df=0.95,min_df=2)\n",
        "\n",
        "vectorizer.fit(df_train['text'])\n",
        "\n",
        "tfidf_train = vectorizer.transform(df_train['text']).toarray()\n",
        "tfidf_valid = vectorizer.transform(df_valid['text']).toarray()\n",
        "tfidf_test = vectorizer.transform(df_test['text']).toarray()"
      ]
    },
    {
      "cell_type": "code",
      "execution_count": null,
      "metadata": {
        "id": "_N-bQOn1oXnk"
      },
      "outputs": [],
      "source": [
        "df_train['polarity'] = pd.Categorical(df_train['polarity'])\n",
        "y_train_int = df_train['polarity'].cat.codes\n",
        "\n",
        "df_valid['polarity'] = pd.Categorical(df_valid['polarity'])\n",
        "y_valid_int = df_valid['polarity'].cat.codes\n",
        "\n",
        "df_test['polarity'] = pd.Categorical(df_test['polarity'])\n",
        "y_test_int = df_test['polarity'].cat.codes"
      ]
    },
    {
      "cell_type": "code",
      "execution_count": null,
      "metadata": {
        "id": "9uUFbsaFoZab"
      },
      "outputs": [],
      "source": [
        "y_train = to_categorical(y_train_int)\n",
        "y_valid = to_categorical(y_valid_int)\n",
        "y_test = to_categorical(y_test_int)"
      ]
    },
    {
      "cell_type": "code",
      "execution_count": null,
      "metadata": {
        "id": "vrcYyJP4oawj"
      },
      "outputs": [],
      "source": [
        "X_train = tfidf_train\n",
        "X_valid = tfidf_valid\n",
        "X_test = tfidf_test"
      ]
    },
    {
      "cell_type": "code",
      "execution_count": null,
      "metadata": {
        "colab": {
          "base_uri": "https://localhost:8080/"
        },
        "id": "2KJ3x5Ssocv7",
        "outputId": "dd48c49d-de61-4b0e-c8ab-cb2e0cbe196a"
      },
      "outputs": [
        {
          "name": "stdout",
          "output_type": "stream",
          "text": [
            "Quantidade de instancias de treinamento 9684 e tamanho do vocabulario 7654\n"
          ]
        }
      ],
      "source": [
        "N = tfidf_train.shape[0]\n",
        "vocab_size = tfidf_train.shape[1]\n",
        "print(f'Quantidade de instancias de treinamento {N} e tamanho do vocabulario {vocab_size}')"
      ]
    },
    {
      "cell_type": "markdown",
      "metadata": {
        "id": "Pl1hyxTyofZS"
      },
      "source": [
        "Arquitetura da Rede Multilayer Perceptron Profunda\n",
        "\n",
        "Hyperparâmetros da rede"
      ]
    },
    {
      "cell_type": "code",
      "execution_count": null,
      "metadata": {
        "id": "KCgVpK6PogGb"
      },
      "outputs": [],
      "source": [
        "number_of_neurons_layer1 = 20\n",
        "number_of_neurons_layer2 = 10\n",
        "number_of_neurons_output = 3\n",
        "lr = 0.01"
      ]
    },
    {
      "cell_type": "code",
      "execution_count": null,
      "metadata": {
        "colab": {
          "base_uri": "https://localhost:8080/"
        },
        "id": "Ws0poc-ooiiK",
        "outputId": "1d639150-2f3a-43a1-a93f-50ffbbf798d5"
      },
      "outputs": [
        {
          "name": "stdout",
          "output_type": "stream",
          "text": [
            "Model: \"sequential\"\n",
            "_________________________________________________________________\n",
            " Layer (type)                Output Shape              Param #   \n",
            "=================================================================\n",
            " dense (Dense)               (None, 20)                153100    \n",
            "                                                                 \n",
            " dense_1 (Dense)             (None, 10)                210       \n",
            "                                                                 \n",
            " dense_2 (Dense)             (None, 3)                 33        \n",
            "                                                                 \n",
            "=================================================================\n",
            "Total params: 153,343\n",
            "Trainable params: 153,343\n",
            "Non-trainable params: 0\n",
            "_________________________________________________________________\n"
          ]
        }
      ],
      "source": [
        "model = Sequential()\n",
        "# Input Layer\n",
        "model.add(Dense(number_of_neurons_layer1,input_dim=vocab_size,activation='sigmoid'))\n",
        "model.add(Dense(number_of_neurons_layer2,activation='sigmoid'))\n",
        "model.add(Dense(number_of_neurons_output,activation='softmax'))\n",
        "model.summary()"
      ]
    },
    {
      "cell_type": "code",
      "execution_count": null,
      "metadata": {
        "id": "EXw3W_NmolAy"
      },
      "outputs": [],
      "source": [
        "sgd = SGD(learning_rate=lr)\n",
        "model.compile(optimizer=sgd,loss='categorical_crossentropy',metrics=['accuracy'])"
      ]
    },
    {
      "cell_type": "code",
      "execution_count": null,
      "metadata": {
        "colab": {
          "base_uri": "https://localhost:8080/"
        },
        "id": "PeMcI2DMon0i",
        "outputId": "a220fa80-9bba-4829-e94e-381834d392dc"
      },
      "outputs": [
        {
          "name": "stdout",
          "output_type": "stream",
          "text": [
            "Epoch 1/50\n",
            "303/303 [==============================] - 4s 4ms/step - loss: 1.0860 - accuracy: 0.4237 - val_loss: 1.0567 - val_accuracy: 0.4468\n",
            "Epoch 2/50\n",
            "303/303 [==============================] - 1s 3ms/step - loss: 1.0035 - accuracy: 0.4736 - val_loss: 1.0590 - val_accuracy: 0.4468\n",
            "Epoch 3/50\n",
            "303/303 [==============================] - 1s 3ms/step - loss: 1.0007 - accuracy: 0.4736 - val_loss: 1.0553 - val_accuracy: 0.4468\n",
            "Epoch 4/50\n",
            "303/303 [==============================] - 1s 3ms/step - loss: 0.9979 - accuracy: 0.4737 - val_loss: 1.0552 - val_accuracy: 0.4468\n",
            "Epoch 5/50\n",
            "303/303 [==============================] - 1s 3ms/step - loss: 0.9947 - accuracy: 0.4741 - val_loss: 1.0526 - val_accuracy: 0.4480\n",
            "Epoch 6/50\n",
            "303/303 [==============================] - 2s 5ms/step - loss: 0.9911 - accuracy: 0.4766 - val_loss: 1.0520 - val_accuracy: 0.4492\n",
            "Epoch 7/50\n",
            "303/303 [==============================] - 2s 6ms/step - loss: 0.9870 - accuracy: 0.4820 - val_loss: 1.0453 - val_accuracy: 0.4571\n",
            "Epoch 8/50\n",
            "303/303 [==============================] - 2s 6ms/step - loss: 0.9823 - accuracy: 0.4930 - val_loss: 1.0429 - val_accuracy: 0.4661\n",
            "Epoch 9/50\n",
            "303/303 [==============================] - 2s 6ms/step - loss: 0.9769 - accuracy: 0.5086 - val_loss: 1.0385 - val_accuracy: 0.4734\n",
            "Epoch 10/50\n",
            "303/303 [==============================] - 1s 4ms/step - loss: 0.9704 - accuracy: 0.5261 - val_loss: 1.0323 - val_accuracy: 0.4958\n",
            "Epoch 11/50\n",
            "303/303 [==============================] - 1s 3ms/step - loss: 0.9628 - accuracy: 0.5547 - val_loss: 1.0272 - val_accuracy: 0.4958\n",
            "Epoch 12/50\n",
            "303/303 [==============================] - 1s 3ms/step - loss: 0.9541 - accuracy: 0.5687 - val_loss: 1.0217 - val_accuracy: 0.5290\n",
            "Epoch 13/50\n",
            "303/303 [==============================] - 1s 3ms/step - loss: 0.9437 - accuracy: 0.5907 - val_loss: 1.0142 - val_accuracy: 0.5496\n",
            "Epoch 14/50\n",
            "303/303 [==============================] - 1s 3ms/step - loss: 0.9321 - accuracy: 0.6179 - val_loss: 1.0045 - val_accuracy: 0.5514\n",
            "Epoch 15/50\n",
            "303/303 [==============================] - 1s 5ms/step - loss: 0.9186 - accuracy: 0.6271 - val_loss: 0.9950 - val_accuracy: 0.5538\n",
            "Epoch 16/50\n",
            "303/303 [==============================] - 2s 7ms/step - loss: 0.9036 - accuracy: 0.6395 - val_loss: 0.9863 - val_accuracy: 0.5689\n",
            "Epoch 17/50\n",
            "303/303 [==============================] - 2s 5ms/step - loss: 0.8873 - accuracy: 0.6533 - val_loss: 0.9721 - val_accuracy: 0.5695\n",
            "Epoch 18/50\n",
            "303/303 [==============================] - 2s 5ms/step - loss: 0.8701 - accuracy: 0.6607 - val_loss: 0.9641 - val_accuracy: 0.5804\n",
            "Epoch 19/50\n",
            "303/303 [==============================] - 1s 5ms/step - loss: 0.8521 - accuracy: 0.6677 - val_loss: 0.9521 - val_accuracy: 0.5871\n",
            "Epoch 20/50\n",
            "303/303 [==============================] - 1s 4ms/step - loss: 0.8338 - accuracy: 0.6754 - val_loss: 0.9453 - val_accuracy: 0.5961\n",
            "Epoch 21/50\n",
            "303/303 [==============================] - 2s 5ms/step - loss: 0.8160 - accuracy: 0.6818 - val_loss: 0.9319 - val_accuracy: 0.5973\n",
            "Epoch 22/50\n",
            "303/303 [==============================] - 2s 5ms/step - loss: 0.7983 - accuracy: 0.6893 - val_loss: 0.9236 - val_accuracy: 0.5973\n",
            "Epoch 23/50\n",
            "303/303 [==============================] - 2s 5ms/step - loss: 0.7813 - accuracy: 0.6968 - val_loss: 0.9180 - val_accuracy: 0.6010\n",
            "Epoch 24/50\n",
            "303/303 [==============================] - 2s 5ms/step - loss: 0.7648 - accuracy: 0.7031 - val_loss: 0.9077 - val_accuracy: 0.6046\n",
            "Epoch 25/50\n",
            "303/303 [==============================] - 2s 6ms/step - loss: 0.7490 - accuracy: 0.7076 - val_loss: 0.9083 - val_accuracy: 0.6046\n",
            "Epoch 26/50\n",
            "303/303 [==============================] - 1s 4ms/step - loss: 0.7340 - accuracy: 0.7134 - val_loss: 0.9016 - val_accuracy: 0.6076\n",
            "Epoch 27/50\n",
            "303/303 [==============================] - 1s 4ms/step - loss: 0.7194 - accuracy: 0.7193 - val_loss: 0.8973 - val_accuracy: 0.6100\n",
            "Epoch 28/50\n",
            "303/303 [==============================] - 1s 3ms/step - loss: 0.7055 - accuracy: 0.7214 - val_loss: 0.8932 - val_accuracy: 0.6125\n",
            "Epoch 29/50\n",
            "303/303 [==============================] - 1s 3ms/step - loss: 0.6920 - accuracy: 0.7260 - val_loss: 0.8896 - val_accuracy: 0.6119\n",
            "Epoch 30/50\n",
            "303/303 [==============================] - 1s 3ms/step - loss: 0.6788 - accuracy: 0.7303 - val_loss: 0.8897 - val_accuracy: 0.6100\n",
            "Epoch 31/50\n",
            "303/303 [==============================] - 1s 3ms/step - loss: 0.6658 - accuracy: 0.7350 - val_loss: 0.8889 - val_accuracy: 0.6082\n",
            "Epoch 32/50\n",
            "303/303 [==============================] - 1s 4ms/step - loss: 0.6534 - accuracy: 0.7398 - val_loss: 0.8855 - val_accuracy: 0.6106\n",
            "Epoch 33/50\n",
            "303/303 [==============================] - 1s 4ms/step - loss: 0.6409 - accuracy: 0.7445 - val_loss: 0.8835 - val_accuracy: 0.6082\n",
            "Epoch 34/50\n",
            "303/303 [==============================] - 2s 6ms/step - loss: 0.6287 - accuracy: 0.7493 - val_loss: 0.8865 - val_accuracy: 0.6058\n",
            "Epoch 35/50\n",
            "303/303 [==============================] - 2s 6ms/step - loss: 0.6167 - accuracy: 0.7529 - val_loss: 0.8851 - val_accuracy: 0.6064\n",
            "Epoch 36/50\n",
            "303/303 [==============================] - 1s 4ms/step - loss: 0.6046 - accuracy: 0.7563 - val_loss: 0.8860 - val_accuracy: 0.6034\n",
            "Epoch 37/50\n",
            "303/303 [==============================] - 1s 4ms/step - loss: 0.5925 - accuracy: 0.7604 - val_loss: 0.8840 - val_accuracy: 0.6028\n",
            "Epoch 38/50\n",
            "303/303 [==============================] - 1s 5ms/step - loss: 0.5808 - accuracy: 0.7643 - val_loss: 0.8838 - val_accuracy: 0.6046\n",
            "Epoch 39/50\n",
            "303/303 [==============================] - 2s 6ms/step - loss: 0.5688 - accuracy: 0.7683 - val_loss: 0.8829 - val_accuracy: 0.6034\n",
            "Epoch 40/50\n",
            "303/303 [==============================] - 2s 5ms/step - loss: 0.5570 - accuracy: 0.7726 - val_loss: 0.8856 - val_accuracy: 0.6034\n",
            "Epoch 41/50\n",
            "303/303 [==============================] - 1s 4ms/step - loss: 0.5449 - accuracy: 0.7778 - val_loss: 0.8846 - val_accuracy: 0.6046\n",
            "Epoch 42/50\n",
            "303/303 [==============================] - 2s 5ms/step - loss: 0.5330 - accuracy: 0.7815 - val_loss: 0.8870 - val_accuracy: 0.6058\n",
            "Epoch 43/50\n",
            "303/303 [==============================] - 2s 5ms/step - loss: 0.5210 - accuracy: 0.7878 - val_loss: 0.8887 - val_accuracy: 0.6064\n",
            "Epoch 44/50\n",
            "303/303 [==============================] - 2s 5ms/step - loss: 0.5090 - accuracy: 0.7937 - val_loss: 0.8915 - val_accuracy: 0.6058\n",
            "Epoch 45/50\n",
            "303/303 [==============================] - 2s 7ms/step - loss: 0.4970 - accuracy: 0.7994 - val_loss: 0.8923 - val_accuracy: 0.6094\n",
            "Epoch 46/50\n",
            "303/303 [==============================] - 1s 4ms/step - loss: 0.4849 - accuracy: 0.8057 - val_loss: 0.8943 - val_accuracy: 0.6125\n",
            "Epoch 47/50\n",
            "303/303 [==============================] - 2s 6ms/step - loss: 0.4733 - accuracy: 0.8103 - val_loss: 0.8992 - val_accuracy: 0.6100\n",
            "Epoch 48/50\n",
            "303/303 [==============================] - 1s 4ms/step - loss: 0.4615 - accuracy: 0.8155 - val_loss: 0.8988 - val_accuracy: 0.6119\n",
            "Epoch 49/50\n",
            "303/303 [==============================] - 2s 6ms/step - loss: 0.4499 - accuracy: 0.8241 - val_loss: 0.9044 - val_accuracy: 0.6119\n",
            "Epoch 50/50\n",
            "303/303 [==============================] - 2s 5ms/step - loss: 0.4381 - accuracy: 0.8292 - val_loss: 0.9108 - val_accuracy: 0.6100\n"
          ]
        }
      ],
      "source": [
        "history = model.fit(X_train,y_train,validation_data=(X_valid,y_valid),epochs=50)"
      ]
    },
    {
      "cell_type": "code",
      "execution_count": null,
      "metadata": {
        "colab": {
          "base_uri": "https://localhost:8080/",
          "height": 295
        },
        "id": "PGjnJs2eoqGC",
        "outputId": "d7ae4383-6aaf-4300-ecd9-d2cc51914d30"
      },
      "outputs": [
        {
          "data": {
            "image/png": "[encoded data removed]",
            "text/plain": [
              "<Figure size 432x288 with 1 Axes>"
            ]
          },
          "metadata": {
            "needs_background": "light"
          },
          "output_type": "display_data"
        }
      ],
      "source": [
        "plt.plot(history.history['loss'])\n",
        "plt.plot(history.history['val_loss'])\n",
        "plt.title('Model loss')\n",
        "plt.ylabel('Loss')\n",
        "plt.xlabel('Epoch')\n",
        "plt.legend(['Train', 'Validation'], loc='upper left')\n",
        "plt.show()"
      ]
    },
    {
      "cell_type": "code",
      "execution_count": null,
      "metadata": {
        "colab": {
          "base_uri": "https://localhost:8080/",
          "height": 295
        },
        "id": "r0DuDZDUoro6",
        "outputId": "ca4e5f04-312b-4399-9da0-2fb2a824a9da"
      },
      "outputs": [
        {
          "data": {
            "image/png": "[encoded data removed]",
            "text/plain": [
              "<Figure size 432x288 with 1 Axes>"
            ]
          },
          "metadata": {
            "needs_background": "light"
          },
          "output_type": "display_data"
        }
      ],
      "source": [
        "plt.plot(history.history['accuracy'])\n",
        "plt.plot(history.history['val_accuracy'])\n",
        "plt.title('Model acc')\n",
        "plt.ylabel('Accuracy')\n",
        "plt.xlabel('Epoch')\n",
        "plt.legend(['Train', 'Validation'], loc='upper left')\n",
        "plt.show()"
      ]
    },
    {
      "cell_type": "markdown",
      "metadata": {
        "id": "HMALKNlVotXq"
      },
      "source": [
        "Avaliação com os Dados de Teste"
      ]
    },
    {
      "cell_type": "code",
      "execution_count": null,
      "metadata": {
        "colab": {
          "base_uri": "https://localhost:8080/"
        },
        "id": "edTVukZXovBa",
        "outputId": "69e5bf71-4d72-4250-f97a-1938738478d4"
      },
      "outputs": [
        {
          "name": "stdout",
          "output_type": "stream",
          "text": [
            "111/111 [==============================] - 0s 3ms/step - loss: 0.9035 - accuracy: 0.6211\n"
          ]
        }
      ],
      "source": [
        "y = model.evaluate(X_test,y_test)"
      ]
    },
    {
      "cell_type": "code",
      "execution_count": null,
      "metadata": {
        "colab": {
          "base_uri": "https://localhost:8080/"
        },
        "id": "UpT-oiuXow3D",
        "outputId": "a24c1518-4df6-49ed-a192-274cf7ce7894"
      },
      "outputs": [
        {
          "data": {
            "text/plain": [
              "array([[0.05628552, 0.16223234, 0.78148216],\n",
              "       [0.00508456, 0.01293677, 0.9819787 ],\n",
              "       [0.08637527, 0.87004894, 0.04357586],\n",
              "       ...,\n",
              "       [0.23377982, 0.4674697 , 0.29875046],\n",
              "       [0.03018055, 0.05201645, 0.917803  ],\n",
              "       [0.13362537, 0.56164336, 0.3047313 ]], dtype=float32)"
            ]
          },
          "execution_count": 21,
          "metadata": {},
          "output_type": "execute_result"
        }
      ],
      "source": [
        "import numpy as np\n",
        "y_prob = model.predict(X_test)\n",
        "y_prob"
      ]
    },
    {
      "cell_type": "code",
      "execution_count": null,
      "metadata": {
        "colab": {
          "base_uri": "https://localhost:8080/"
        },
        "id": "RuqCBHPgoyJj",
        "outputId": "0fc90a18-5f46-4483-ab76-cee1115d432b"
      },
      "outputs": [
        {
          "data": {
            "text/plain": [
              "array([2, 2, 1, ..., 1, 2, 1])"
            ]
          },
          "execution_count": 22,
          "metadata": {},
          "output_type": "execute_result"
        }
      ],
      "source": [
        "y_pred = np.argmax(y_prob,axis=1)\n",
        "y_pred"
      ]
    },
    {
      "cell_type": "code",
      "execution_count": null,
      "metadata": {
        "colab": {
          "base_uri": "https://localhost:8080/"
        },
        "id": "oVj4cO3Vo3sq",
        "outputId": "afa668ba-140c-4609-ce08-e7d399f0caad"
      },
      "outputs": [
        {
          "data": {
            "text/plain": [
              "0       2\n",
              "1       2\n",
              "2       1\n",
              "3       0\n",
              "4       1\n",
              "       ..\n",
              "3542    0\n",
              "3543    1\n",
              "3544    0\n",
              "3545    2\n",
              "3546    1\n",
              "Length: 3547, dtype: int8"
            ]
          },
          "execution_count": 23,
          "metadata": {},
          "output_type": "execute_result"
        }
      ],
      "source": [
        "y_test_int"
      ]
    },
    {
      "cell_type": "markdown",
      "metadata": {
        "id": "1BiCdRAkuEDD"
      },
      "source": [
        "Validação cruzada\n",
        "\n",
        "k=3                           \n",
        "\n",
        "\n",
        "Fold 1 -  Train\n",
        "Fold 2 - Train\n",
        "Fold 3 - Test\n",
        "\n",
        "1º Run/1ª trial\n",
        "n instâncias - Extrair taxa classif. correta; Erro teste\n",
        "\n",
        "Fold 1 -  Train\n",
        "Fold 2 - Test\n",
        "Fold 3 - Train\n",
        "\n",
        "2º Run/2ª trial\n",
        "n instâncias - Extrair taxa classif. correta; Erro teste"
      ]
    },
    {
      "cell_type": "markdown",
      "metadata": {
        "id": "L8YTvoO7u-zj"
      },
      "source": [
        "        M1   M2\n",
        "Run 1   90%  100%\n",
        "Run 2   80%  50%\n",
        "Run 3   85%  70%\n",
        "\n",
        "O 1 é melhor. \n",
        "IIA"
      ]
    },
    {
      "cell_type": "markdown",
      "metadata": {
        "id": "sgy2RhUqy3CC"
      },
      "source": [
        "Desbalanceamento \n",
        "\n",
        "Dados de teste -> Modelo -> predições +,-\n",
        "```\n",
        "        Predita\n",
        "        +   -\n",
        "Real +  1   2\n",
        "     -  2   1\n",
        "\n",
        "Predição  Classe Real(Atual)\n",
        " +            -\n",
        " +            +\n",
        " -            +\n",
        " -            -\n",
        " +            -\n",
        " -            +\n",
        "```\n",
        "\n",
        "\n"
      ]
    },
    {
      "cell_type": "markdown",
      "metadata": {
        "id": "rOgFmNKz0ZQS"
      },
      "source": [
        "Matriz de confusão Multi-classe"
      ]
    },
    {
      "cell_type": "markdown",
      "metadata": {
        "id": "qCLMSOII1vCD"
      },
      "source": [
        "```\n",
        "        Predita\n",
        "       0    1    2\n",
        "\n",
        "Real 0\n",
        "\n",
        "     1\n",
        "\n",
        "     2\n",
        "     \n",
        "```\n"
      ]
    },
    {
      "cell_type": "code",
      "execution_count": null,
      "metadata": {
        "colab": {
          "base_uri": "https://localhost:8080/"
        },
        "id": "cdMcLF5b0Cgt",
        "outputId": "35bde184-3424-4cd1-c2b7-a0a4ed668ab9"
      },
      "outputs": [
        {
          "data": {
            "text/plain": [
              "array([2, 2, 1, ..., 1, 2, 1])"
            ]
          },
          "execution_count": 24,
          "metadata": {},
          "output_type": "execute_result"
        }
      ],
      "source": [
        "matriz_conf = [[0,0,0],[0,0,0],[0,0,0]]\n",
        "matriz_conf1 = [[0,0,0],[0,0,0],[0,0,0]]\n",
        "y_real = y_test_int\n",
        "y_pred"
      ]
    },
    {
      "cell_type": "code",
      "execution_count": null,
      "metadata": {
        "colab": {
          "base_uri": "https://localhost:8080/"
        },
        "id": "JOrHFLBg18hr",
        "outputId": "b25b0bc1-8650-450b-ca96-7a9f3697bfe5"
      },
      "outputs": [
        {
          "data": {
            "text/plain": [
              "0       2\n",
              "1       2\n",
              "2       1\n",
              "3       0\n",
              "4       1\n",
              "       ..\n",
              "3542    0\n",
              "3543    1\n",
              "3544    0\n",
              "3545    2\n",
              "3546    1\n",
              "Length: 3547, dtype: int8"
            ]
          },
          "execution_count": 25,
          "metadata": {},
          "output_type": "execute_result"
        }
      ],
      "source": [
        "y_real"
      ]
    },
    {
      "cell_type": "code",
      "execution_count": null,
      "metadata": {
        "colab": {
          "base_uri": "https://localhost:8080/"
        },
        "id": "vRZnND2b3M6z",
        "outputId": "7ebb975b-41f4-4a67-c5e5-1ff25e5597cd"
      },
      "outputs": [
        {
          "data": {
            "text/plain": [
              "array([[  29,  430,  100],\n",
              "       [   1, 1252,  260],\n",
              "       [   8,  545,  922]])"
            ]
          },
          "execution_count": 26,
          "metadata": {},
          "output_type": "execute_result"
        }
      ],
      "source": [
        "for i in range(len(y_pred)):\n",
        "  if(y_real[i]==0 and y_pred[i]==0):\n",
        "    matriz_conf1[0][0]+=1\n",
        "  elif(y_real[i]==1 and y_pred[i]==0):\n",
        "    matriz_conf1[1][0]+=1\n",
        "  elif(y_real[i]==0 and y_pred[i]==1):\n",
        "    matriz_conf1[0][1]+=1\n",
        "  elif(y_real[i]==1 and y_pred[i]==1):\n",
        "    matriz_conf1[1][1]+=1\n",
        "  elif(y_real[i]==0 and y_pred[i]==2):\n",
        "    matriz_conf1[0][2]+=1\n",
        "  elif(y_real[i]==2 and y_pred[i]==0):\n",
        "    matriz_conf1[2][0]+=1\n",
        "  elif(y_real[i]==2 and y_pred[i]==2):\n",
        "    matriz_conf1[2][2]+=1\n",
        "  elif(y_real[i]==1 and y_pred[i]==2):\n",
        "    matriz_conf1[1][2]+=1\n",
        "  elif(y_real[i]==2 and y_pred[i]==1):\n",
        "    matriz_conf1[2][1]+=1\n",
        "np.array(matriz_conf1)"
      ]
    },
    {
      "cell_type": "code",
      "execution_count": null,
      "metadata": {
        "id": "haT4aCznzzVq"
      },
      "outputs": [],
      "source": [
        "for i in range(len(y_pred)):\n",
        "  matriz_conf[y_real[i]][y_pred[i]]+=1\n"
      ]
    },
    {
      "cell_type": "code",
      "execution_count": null,
      "metadata": {
        "colab": {
          "base_uri": "https://localhost:8080/"
        },
        "id": "1FuyY1VF2mdi",
        "outputId": "adcffc0c-3d8d-4482-ed95-2e09cc5ec626"
      },
      "outputs": [
        {
          "data": {
            "text/plain": [
              "array([[  29,  430,  100],\n",
              "       [   1, 1252,  260],\n",
              "       [   8,  545,  922]])"
            ]
          },
          "execution_count": 28,
          "metadata": {},
          "output_type": "execute_result"
        }
      ],
      "source": [
        "np.array(matriz_conf)"
      ]
    },
    {
      "cell_type": "markdown",
      "metadata": {
        "id": "po9C8qae6BWT"
      },
      "source": [
        "Acurácia"
      ]
    },
    {
      "cell_type": "code",
      "execution_count": null,
      "metadata": {
        "colab": {
          "base_uri": "https://localhost:8080/"
        },
        "id": "ZXylKvcu5uwC",
        "outputId": "b310dfc9-d7c3-4af7-b11c-6d34d662276f"
      },
      "outputs": [
        {
          "data": {
            "text/plain": [
              "0.6210882435861291"
            ]
          },
          "execution_count": 29,
          "metadata": {},
          "output_type": "execute_result"
        }
      ],
      "source": [
        "acc = (matriz_conf[0][0] + matriz_conf[1][1] + matriz_conf[2][2]) / len(y_pred)\n",
        "acc"
      ]
    },
    {
      "cell_type": "markdown",
      "metadata": {
        "id": "dS5A_Ljg60US"
      },
      "source": [
        "Precisão: \n",
        "```\n",
        "Pr = VP/(VP+FP)\n",
        "```\n",
        "\n",
        "Revocação:\n",
        "```\n",
        "Rv = VP/(VP+FN)\n",
        "```\n",
        "\n",
        "F Score\n",
        "```\n",
        "F1 = 2 * (Pr*Rv)/(Pr+Rv)\n",
        "```"
      ]
    },
    {
      "cell_type": "markdown",
      "metadata": {
        "id": "skOOnVyd8IjS"
      },
      "source": [
        "One against all"
      ]
    },
    {
      "cell_type": "markdown",
      "metadata": {
        "id": "fFCSp0TC9U_K"
      },
      "source": [
        "\n",
        "\n",
        "```\n",
        "# positiva all (negative, neutro)\n",
        "Pr = \n",
        "Rv = \n",
        "F1_Score = \n",
        "\n",
        "# neutra all (positivo, neutro)\n",
        "Pr = \n",
        "Rv = \n",
        "F1_Score = \n",
        "\n",
        "# negativa all (neutro, positiva)\n",
        "Pr = \n",
        "Rv = \n",
        "F1_Score = \n",
        "```\n",
        "\n"
      ]
    },
    {
      "cell_type": "markdown",
      "metadata": {
        "id": "Uq-jLdSUAcWK"
      },
      "source": [
        "\n",
        "\n",
        "```\n",
        "           Predita\n",
        "         0   1    2\n",
        "Real  0  VP  FN  FN\n",
        "      1  FP\n",
        "      2  FP\n",
        "```\n",
        "\n"
      ]
    },
    {
      "cell_type": "code",
      "execution_count": null,
      "metadata": {
        "colab": {
          "base_uri": "https://localhost:8080/"
        },
        "id": "cWOQ2qCc8t8m",
        "outputId": "2725dd27-06a2-4282-f230-9c8be5c2a913"
      },
      "outputs": [
        {
          "name": "stdout",
          "output_type": "stream",
          "text": [
            "              precision    recall  f1-score   support\n",
            "\n",
            "           0       0.76      0.05      0.10       559\n",
            "           1       0.56      0.83      0.67      1513\n",
            "           2       0.72      0.63      0.67      1475\n",
            "\n",
            "    accuracy                           0.62      3547\n",
            "   macro avg       0.68      0.50      0.48      3547\n",
            "weighted avg       0.66      0.62      0.58      3547\n",
            "\n"
          ]
        }
      ],
      "source": [
        "from sklearn.metrics import classification_report\n",
        "print(classification_report(y_real, y_pred))"
      ]
    },
    {
      "cell_type": "markdown",
      "metadata": {
        "id": "C2-Mn8Cr_IWb"
      },
      "source": [
        "Precision Negativo"
      ]
    },
    {
      "cell_type": "code",
      "execution_count": null,
      "metadata": {
        "colab": {
          "base_uri": "https://localhost:8080/"
        },
        "id": "dp-UA6yA9dCy",
        "outputId": "d610ff4f-b4c7-4498-8f53-98956c2913d0"
      },
      "outputs": [
        {
          "data": {
            "text/plain": [
              "0.7631578947368421"
            ]
          },
          "execution_count": 31,
          "metadata": {},
          "output_type": "execute_result"
        }
      ],
      "source": [
        "prece = matriz_conf[0][0]/(matriz_conf[0][0] + matriz_conf[1][0] + matriz_conf[2][0])\n",
        "prece"
      ]
    },
    {
      "cell_type": "markdown",
      "metadata": {
        "id": "dgx5wGLw_u_q"
      },
      "source": [
        "Precision Neutro"
      ]
    },
    {
      "cell_type": "code",
      "execution_count": null,
      "metadata": {
        "colab": {
          "base_uri": "https://localhost:8080/"
        },
        "id": "exRlaifG_SmR",
        "outputId": "cdfaceee-ef0c-40a2-d79d-599802c6039b"
      },
      "outputs": [
        {
          "data": {
            "text/plain": [
              "0.5621912887292322"
            ]
          },
          "execution_count": 32,
          "metadata": {},
          "output_type": "execute_result"
        }
      ],
      "source": [
        "precn = matriz_conf[1][1]/(matriz_conf[1][1] + matriz_conf[0][1] + matriz_conf[2][1])\n",
        "precn"
      ]
    },
    {
      "cell_type": "markdown",
      "metadata": {
        "id": "2sgtJbYt_w0q"
      },
      "source": [
        "Precision Positivo"
      ]
    },
    {
      "cell_type": "code",
      "execution_count": null,
      "metadata": {
        "colab": {
          "base_uri": "https://localhost:8080/"
        },
        "id": "m_dc_C_h_ikC",
        "outputId": "8af5a0ab-1ecc-4020-9231-2066e61a9794"
      },
      "outputs": [
        {
          "data": {
            "text/plain": [
              "0.719188767550702"
            ]
          },
          "execution_count": 33,
          "metadata": {},
          "output_type": "execute_result"
        }
      ],
      "source": [
        "precs = matriz_conf[2][2]/(matriz_conf[2][2] + matriz_conf[0][2] + matriz_conf[1][2])\n",
        "precs"
      ]
    },
    {
      "cell_type": "markdown",
      "metadata": {
        "id": "DekMVEpaG8Yi"
      },
      "source": [
        "Recall Negativo"
      ]
    },
    {
      "cell_type": "code",
      "execution_count": null,
      "metadata": {
        "colab": {
          "base_uri": "https://localhost:8080/"
        },
        "id": "NEti3qen-AQy",
        "outputId": "5d425850-b2ed-4ddf-b6ad-e59c5a7602aa"
      },
      "outputs": [
        {
          "data": {
            "text/plain": [
              "0.0518783542039356"
            ]
          },
          "execution_count": 34,
          "metadata": {},
          "output_type": "execute_result"
        }
      ],
      "source": [
        "recalle= matriz_conf[0][0]/(matriz_conf[0][0] + matriz_conf[0][1] + matriz_conf[0][2])\n",
        "recalle"
      ]
    },
    {
      "cell_type": "markdown",
      "metadata": {
        "id": "JjlqY20iG9_1"
      },
      "source": [
        "Recall Neutro"
      ]
    },
    {
      "cell_type": "code",
      "execution_count": null,
      "metadata": {
        "colab": {
          "base_uri": "https://localhost:8080/"
        },
        "id": "t93afYxsG6O-",
        "outputId": "6ea4a867-d89b-4354-c187-f59a00f47d42"
      },
      "outputs": [
        {
          "data": {
            "text/plain": [
              "0.8274950429610046"
            ]
          },
          "execution_count": 35,
          "metadata": {},
          "output_type": "execute_result"
        }
      ],
      "source": [
        "recalln= matriz_conf[1][1]/(matriz_conf[1][1] + matriz_conf[1][0] + matriz_conf[1][2])\n",
        "recalln"
      ]
    },
    {
      "cell_type": "markdown",
      "metadata": {
        "id": "LXpo0yp7G-dz"
      },
      "source": [
        "Recall Positivo"
      ]
    },
    {
      "cell_type": "code",
      "execution_count": null,
      "metadata": {
        "colab": {
          "base_uri": "https://localhost:8080/"
        },
        "id": "X74_1jFHG6vv",
        "outputId": "bc2dcd53-105b-4f5e-d4e1-e9c8481bcf7d"
      },
      "outputs": [
        {
          "data": {
            "text/plain": [
              "0.6250847457627119"
            ]
          },
          "execution_count": 36,
          "metadata": {},
          "output_type": "execute_result"
        }
      ],
      "source": [
        "recallp= matriz_conf[2][2]/(matriz_conf[2][2] + matriz_conf[2][1] + matriz_conf[2][0])\n",
        "recallp"
      ]
    },
    {
      "cell_type": "markdown",
      "metadata": {
        "id": "FkVZsBhjHHhN"
      },
      "source": [
        "F1_Score Negativo"
      ]
    },
    {
      "cell_type": "code",
      "execution_count": null,
      "metadata": {
        "colab": {
          "base_uri": "https://localhost:8080/"
        },
        "id": "HOHuIza7HmUZ",
        "outputId": "4125ed6b-4182-4bb3-a56e-8c1311c9f536"
      },
      "outputs": [
        {
          "data": {
            "text/plain": [
              "0.09715242881072027"
            ]
          },
          "execution_count": 44,
          "metadata": {},
          "output_type": "execute_result"
        }
      ],
      "source": [
        "F1_Score= 2*(prece*recalle)/(prece + recalle)\n",
        "F1_Score"
      ]
    },
    {
      "cell_type": "markdown",
      "metadata": {
        "id": "BslGNPQ0HIA8"
      },
      "source": [
        "F1_Score Neutro"
      ]
    },
    {
      "cell_type": "code",
      "execution_count": null,
      "metadata": {
        "colab": {
          "base_uri": "https://localhost:8080/"
        },
        "id": "ejGHmYiuHqM4",
        "outputId": "2bfcb884-5078-4220-c19b-4f53d47a35ed"
      },
      "outputs": [
        {
          "data": {
            "text/plain": [
              "0.6695187165775401"
            ]
          },
          "execution_count": 43,
          "metadata": {},
          "output_type": "execute_result"
        }
      ],
      "source": [
        "F1_Score= 2*(precn*recalln)/(precn + recalln)\n",
        "F1_Score"
      ]
    },
    {
      "cell_type": "markdown",
      "metadata": {
        "id": "fmhuK-TUHIY9"
      },
      "source": [
        "F1_Score Positivo"
      ]
    },
    {
      "cell_type": "code",
      "execution_count": null,
      "metadata": {
        "colab": {
          "base_uri": "https://localhost:8080/"
        },
        "id": "5aOyuWT8HqwP",
        "outputId": "e1b6d364-1bac-461f-e242-5878cb64769b"
      },
      "outputs": [
        {
          "data": {
            "text/plain": [
              "0.6688429452303228"
            ]
          },
          "execution_count": 42,
          "metadata": {},
          "output_type": "execute_result"
        }
      ],
      "source": [
        "F1_Score= 2*(precs*recallp)/(precs + recallp)\n",
        "F1_Score"
      ]
    }
  ],
  "metadata": {
    "accelerator": "GPU",
    "colab": {
      "collapsed_sections": [],
      "name": "deep_multilayer_perceptron.ipynb",
      "provenance": []
    },
    "gpuClass": "standard",
    "kernelspec": {
      "display_name": "Python 3.9.13 64-bit (windows store)",
      "language": "python",
      "name": "python3"
    },
    "language_info": {
      "name": "python",
      "version": "3.9.13"
    },
    "vscode": {
      "interpreter": {
        "hash": "617363fb8f822c335b76070c7f97bf65c9b78ab41cc47ecc8e0662a7878c30f0"
      }
    }
  },
  "nbformat": 4,
  "nbformat_minor": 0
}
