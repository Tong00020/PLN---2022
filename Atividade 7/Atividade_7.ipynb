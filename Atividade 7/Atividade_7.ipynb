{
  "cells": [
    {
      "cell_type": "markdown",
      "metadata": {
        "id": "NBNxsSX1vyGf"
      },
      "source": [
        "##Classificação de Imagens de Documentos"
      ]
    },
    {
      "cell_type": "markdown",
      "metadata": {
        "id": "skveDZT2wRi9"
      },
      "source": [
        "1. Leitura de imagens de disco\n",
        "\n",
        "```\n",
        "Keras -> ImageDataGenerator (Data argumentation)\n",
        "tensorflow -> Leitura de imagem por imagem\n",
        "np.array  tensor\n",
        "\n",
        "```\n",
        "\n"
      ]
    },
    {
      "cell_type": "markdown",
      "metadata": {
        "id": "RHCE_WEZYU_F"
      },
      "source": [
        "Keras-OCR/ PyTesseract/PyMuPDF\n",
        "```\n",
        "PyTesseract\n",
        "-> extração de caracteres\n",
        "-> 1 texto por duocumento\n",
        "```"
      ]
    },
    {
      "cell_type": "code",
      "execution_count": 1,
      "metadata": {
        "colab": {
          "base_uri": "https://localhost:8080/"
        },
        "id": "W3VuX7ovs3Pd",
        "outputId": "65f1493e-f6c9-4bb3-af9a-ced1407b59c7"
      },
      "outputs": [
        {
          "name": "stdout",
          "output_type": "stream",
          "text": [
            "Looking in indexes: https://pypi.org/simple, https://us-python.pkg.dev/colab-wheels/public/simple/\n",
            "Requirement already satisfied: keras in /usr/local/lib/python3.7/dist-packages (2.8.0)\n",
            "Collecting keras\n",
            "  Using cached keras-2.9.0-py2.py3-none-any.whl (1.6 MB)\n",
            "Installing collected packages: keras\n",
            "  Attempting uninstall: keras\n",
            "    Found existing installation: keras 2.8.0\n",
            "    Uninstalling keras-2.8.0:\n",
            "      Successfully uninstalled keras-2.8.0\n",
            "\u001b[31mERROR: pip's dependency resolver does not currently take into account all the packages that are installed. This behaviour is the source of the following dependency conflicts.\n",
            "tensorflow 2.8.2+zzzcolab20220719082949 requires keras<2.9,>=2.8.0rc0, but you have keras 2.9.0 which is incompatible.\u001b[0m\n",
            "Successfully installed keras-2.9.0\n",
            "Looking in indexes: https://pypi.org/simple, https://us-python.pkg.dev/colab-wheels/public/simple/\n",
            "Requirement already satisfied: tensorflow in /usr/local/lib/python3.7/dist-packages (2.8.2+zzzcolab20220719082949)\n",
            "Requirement already satisfied: google-pasta>=0.1.1 in /usr/local/lib/python3.7/dist-packages (from tensorflow) (0.2.0)\n",
            "Requirement already satisfied: tensorflow-io-gcs-filesystem>=0.23.1 in /usr/local/lib/python3.7/dist-packages (from tensorflow) (0.26.0)\n",
            "Requirement already satisfied: termcolor>=1.1.0 in /usr/local/lib/python3.7/dist-packages (from tensorflow) (1.1.0)\n",
            "Requirement already satisfied: numpy>=1.20 in /usr/local/lib/python3.7/dist-packages (from tensorflow) (1.21.6)\n",
            "Requirement already satisfied: h5py>=2.9.0 in /usr/local/lib/python3.7/dist-packages (from tensorflow) (3.1.0)\n",
            "Collecting keras<2.9,>=2.8.0rc0\n",
            "  Using cached keras-2.8.0-py2.py3-none-any.whl (1.4 MB)\n",
            "Requirement already satisfied: gast>=0.2.1 in /usr/local/lib/python3.7/dist-packages (from tensorflow) (0.5.3)\n",
            "Requirement already satisfied: grpcio<2.0,>=1.24.3 in /usr/local/lib/python3.7/dist-packages (from tensorflow) (1.47.0)\n",
            "Requirement already satisfied: libclang>=9.0.1 in /usr/local/lib/python3.7/dist-packages (from tensorflow) (14.0.6)\n",
            "Requirement already satisfied: absl-py>=0.4.0 in /usr/local/lib/python3.7/dist-packages (from tensorflow) (1.2.0)\n",
            "Requirement already satisfied: tensorboard<2.9,>=2.8 in /usr/local/lib/python3.7/dist-packages (from tensorflow) (2.8.0)\n",
            "Requirement already satisfied: protobuf<3.20,>=3.9.2 in /usr/local/lib/python3.7/dist-packages (from tensorflow) (3.17.3)\n",
            "Requirement already satisfied: astunparse>=1.6.0 in /usr/local/lib/python3.7/dist-packages (from tensorflow) (1.6.3)\n",
            "Requirement already satisfied: tensorflow-estimator<2.9,>=2.8 in /usr/local/lib/python3.7/dist-packages (from tensorflow) (2.8.0)\n",
            "Requirement already satisfied: setuptools in /usr/local/lib/python3.7/dist-packages (from tensorflow) (57.4.0)\n",
            "Requirement already satisfied: keras-preprocessing>=1.1.1 in /usr/local/lib/python3.7/dist-packages (from tensorflow) (1.1.2)\n",
            "Requirement already satisfied: flatbuffers>=1.12 in /usr/local/lib/python3.7/dist-packages (from tensorflow) (2.0)\n",
            "Requirement already satisfied: typing-extensions>=3.6.6 in /usr/local/lib/python3.7/dist-packages (from tensorflow) (4.1.1)\n",
            "Requirement already satisfied: wrapt>=1.11.0 in /usr/local/lib/python3.7/dist-packages (from tensorflow) (1.14.1)\n",
            "Requirement already satisfied: opt-einsum>=2.3.2 in /usr/local/lib/python3.7/dist-packages (from tensorflow) (3.3.0)\n",
            "Requirement already satisfied: six>=1.12.0 in /usr/local/lib/python3.7/dist-packages (from tensorflow) (1.15.0)\n",
            "Requirement already satisfied: wheel<1.0,>=0.23.0 in /usr/local/lib/python3.7/dist-packages (from astunparse>=1.6.0->tensorflow) (0.37.1)\n",
            "Requirement already satisfied: cached-property in /usr/local/lib/python3.7/dist-packages (from h5py>=2.9.0->tensorflow) (1.5.2)\n",
            "Requirement already satisfied: google-auth-oauthlib<0.5,>=0.4.1 in /usr/local/lib/python3.7/dist-packages (from tensorboard<2.9,>=2.8->tensorflow) (0.4.6)\n",
            "Requirement already satisfied: tensorboard-data-server<0.7.0,>=0.6.0 in /usr/local/lib/python3.7/dist-packages (from tensorboard<2.9,>=2.8->tensorflow) (0.6.1)\n",
            "Requirement already satisfied: werkzeug>=0.11.15 in /usr/local/lib/python3.7/dist-packages (from tensorboard<2.9,>=2.8->tensorflow) (1.0.1)\n",
            "Requirement already satisfied: requests<3,>=2.21.0 in /usr/local/lib/python3.7/dist-packages (from tensorboard<2.9,>=2.8->tensorflow) (2.23.0)\n",
            "Requirement already satisfied: tensorboard-plugin-wit>=1.6.0 in /usr/local/lib/python3.7/dist-packages (from tensorboard<2.9,>=2.8->tensorflow) (1.8.1)\n",
            "Requirement already satisfied: markdown>=2.6.8 in /usr/local/lib/python3.7/dist-packages (from tensorboard<2.9,>=2.8->tensorflow) (3.4.1)\n",
            "Requirement already satisfied: google-auth<3,>=1.6.3 in /usr/local/lib/python3.7/dist-packages (from tensorboard<2.9,>=2.8->tensorflow) (1.35.0)\n",
            "Requirement already satisfied: pyasn1-modules>=0.2.1 in /usr/local/lib/python3.7/dist-packages (from google-auth<3,>=1.6.3->tensorboard<2.9,>=2.8->tensorflow) (0.2.8)\n",
            "Requirement already satisfied: cachetools<5.0,>=2.0.0 in /usr/local/lib/python3.7/dist-packages (from google-auth<3,>=1.6.3->tensorboard<2.9,>=2.8->tensorflow) (4.2.4)\n",
            "Requirement already satisfied: rsa<5,>=3.1.4 in /usr/local/lib/python3.7/dist-packages (from google-auth<3,>=1.6.3->tensorboard<2.9,>=2.8->tensorflow) (4.9)\n",
            "Requirement already satisfied: requests-oauthlib>=0.7.0 in /usr/local/lib/python3.7/dist-packages (from google-auth-oauthlib<0.5,>=0.4.1->tensorboard<2.9,>=2.8->tensorflow) (1.3.1)\n",
            "Requirement already satisfied: importlib-metadata>=4.4 in /usr/local/lib/python3.7/dist-packages (from markdown>=2.6.8->tensorboard<2.9,>=2.8->tensorflow) (4.12.0)\n",
            "Requirement already satisfied: zipp>=0.5 in /usr/local/lib/python3.7/dist-packages (from importlib-metadata>=4.4->markdown>=2.6.8->tensorboard<2.9,>=2.8->tensorflow) (3.8.1)\n",
            "Requirement already satisfied: pyasn1<0.5.0,>=0.4.6 in /usr/local/lib/python3.7/dist-packages (from pyasn1-modules>=0.2.1->google-auth<3,>=1.6.3->tensorboard<2.9,>=2.8->tensorflow) (0.4.8)\n",
            "Requirement already satisfied: chardet<4,>=3.0.2 in /usr/local/lib/python3.7/dist-packages (from requests<3,>=2.21.0->tensorboard<2.9,>=2.8->tensorflow) (3.0.4)\n",
            "Requirement already satisfied: urllib3!=1.25.0,!=1.25.1,<1.26,>=1.21.1 in /usr/local/lib/python3.7/dist-packages (from requests<3,>=2.21.0->tensorboard<2.9,>=2.8->tensorflow) (1.24.3)\n",
            "Requirement already satisfied: certifi>=2017.4.17 in /usr/local/lib/python3.7/dist-packages (from requests<3,>=2.21.0->tensorboard<2.9,>=2.8->tensorflow) (2022.6.15)\n",
            "Requirement already satisfied: idna<3,>=2.5 in /usr/local/lib/python3.7/dist-packages (from requests<3,>=2.21.0->tensorboard<2.9,>=2.8->tensorflow) (2.10)\n",
            "Requirement already satisfied: oauthlib>=3.0.0 in /usr/local/lib/python3.7/dist-packages (from requests-oauthlib>=0.7.0->google-auth-oauthlib<0.5,>=0.4.1->tensorboard<2.9,>=2.8->tensorflow) (3.2.0)\n",
            "Installing collected packages: keras\n",
            "  Attempting uninstall: keras\n",
            "    Found existing installation: keras 2.9.0\n",
            "    Uninstalling keras-2.9.0:\n",
            "      Successfully uninstalled keras-2.9.0\n",
            "Successfully installed keras-2.8.0\n"
          ]
        }
      ],
      "source": [
        "!pip install -U keras\n",
        "!pip install tensorflow"
      ]
    },
    {
      "cell_type": "code",
      "execution_count": 2,
      "metadata": {
        "id": "rDWRjUjISbQb"
      },
      "outputs": [],
      "source": [
        "from tensorflow.keras.models import Sequential\n",
        "from tensorflow.keras.applications import ResNet50\n",
        "from keras.layers import Dense,Activation,Conv2D,MaxPooling2D,BatchNormalization,Flatten,Dropout\n",
        "from tensorflow.keras.optimizers import SGD\n",
        "from tensorflow.keras.preprocessing.image import ImageDataGenerator\n",
        "from tensorflow.keras import layers\n",
        "from sklearn.model_selection import train_test_split\n",
        "import matplotlib.pyplot as plt\n",
        "import numpy as np\n",
        "import pandas as pd\n",
        "import os"
      ]
    },
    {
      "cell_type": "markdown",
      "metadata": {
        "id": "eiPMmIbNSpbv"
      },
      "source": [
        "Leitura de dados"
      ]
    },
    {
      "cell_type": "code",
      "execution_count": 3,
      "metadata": {
        "colab": {
          "base_uri": "https://localhost:8080/"
        },
        "id": "pwB0TOh-SV9N",
        "outputId": "449d3dce-361a-4081-8f95-7fa2e85b7b57"
      },
      "outputs": [
        {
          "name": "stdout",
          "output_type": "stream",
          "text": [
            "Drive already mounted at /content/drive; to attempt to forcibly remount, call drive.mount(\"/content/drive\", force_remount=True).\n"
          ]
        }
      ],
      "source": [
        "from google.colab import drive\n",
        "drive.mount('/content/drive')\n",
        "!cp -r '/content/drive/MyDrive/Colab Notebooks/Módulo 2/full_3/' 'documents'"
      ]
    },
    {
      "cell_type": "code",
      "execution_count": 4,
      "metadata": {
        "id": "xbRyNMb2tLcj"
      },
      "outputs": [],
      "source": [
        "path_documents = 'documents'\n",
        "lista_subfolders = os.listdir(path_documents)\n",
        "\n",
        "dataset_dict = {}\n",
        "\n",
        "dataset_dict['filename'] = []\n",
        "dataset_dict['label'] = []\n",
        "\n",
        "for folder in lista_subfolders:\n",
        "    lista_imagens = os.listdir(path_documents+'/'+folder)\n",
        "\n",
        "    for img_file in lista_imagens:\n",
        "      dataset_dict['filename'].append(folder+'/'+img_file)\n",
        "      dataset_dict['label'].append(folder)\n"
      ]
    },
    {
      "cell_type": "code",
      "execution_count": 5,
      "metadata": {
        "id": "ElJkB8zhX3k7"
      },
      "outputs": [],
      "source": [
        "df = pd.DataFrame(dataset_dict,columns=['filename','label'])\n",
        "X = df['filename'].values\n",
        "y = df['label'].values"
      ]
    },
    {
      "cell_type": "code",
      "execution_count": 6,
      "metadata": {
        "colab": {
          "base_uri": "https://localhost:8080/"
        },
        "id": "zhO3EEQ4ThpU",
        "outputId": "56510c01-54ac-48fb-a943-a9c31ccab115"
      },
      "outputs": [
        {
          "data": {
            "text/plain": [
              "['scientific _publication', 'email', 'full_3', 'advertisement']"
            ]
          },
          "execution_count": 6,
          "metadata": {},
          "output_type": "execute_result"
        }
      ],
      "source": [
        "lista_subfolders"
      ]
    },
    {
      "cell_type": "code",
      "execution_count": 7,
      "metadata": {
        "colab": {
          "base_uri": "https://localhost:8080/",
          "height": 424
        },
        "id": "nmbm0SGoTlna",
        "outputId": "bb369fa1-faf5-44d7-ff4b-603e54499acd"
      },
      "outputs": [
        {
          "data": {
            "text/html": [
              "\n",
              "  <div id=\"df-b59df112-9d26-4406-a5e4-4d1e225c4dde\">\n",
              "    <div class=\"colab-df-container\">\n",
              "      <div>\n",
              "<style scoped>\n",
              "    .dataframe tbody tr th:only-of-type {\n",
              "        vertical-align: middle;\n",
              "    }\n",
              "\n",
              "    .dataframe tbody tr th {\n",
              "        vertical-align: top;\n",
              "    }\n",
              "\n",
              "    .dataframe thead th {\n",
              "        text-align: right;\n",
              "    }\n",
              "</style>\n",
              "<table border=\"1\" class=\"dataframe\">\n",
              "  <thead>\n",
              "    <tr style=\"text-align: right;\">\n",
              "      <th></th>\n",
              "      <th>filename</th>\n",
              "      <th>label</th>\n",
              "    </tr>\n",
              "  </thead>\n",
              "  <tbody>\n",
              "    <tr>\n",
              "      <th>0</th>\n",
              "      <td>scientific _publication/2502255678_5684.tif</td>\n",
              "      <td>scientific _publication</td>\n",
              "    </tr>\n",
              "    <tr>\n",
              "      <th>1</th>\n",
              "      <td>scientific _publication/10046987_10047002.tif</td>\n",
              "      <td>scientific _publication</td>\n",
              "    </tr>\n",
              "    <tr>\n",
              "      <th>2</th>\n",
              "      <td>scientific _publication/2046398702_2046398712.tif</td>\n",
              "      <td>scientific _publication</td>\n",
              "    </tr>\n",
              "    <tr>\n",
              "      <th>3</th>\n",
              "      <td>scientific _publication/2505350166.tif</td>\n",
              "      <td>scientific _publication</td>\n",
              "    </tr>\n",
              "    <tr>\n",
              "      <th>4</th>\n",
              "      <td>scientific _publication/2505421989.tif</td>\n",
              "      <td>scientific _publication</td>\n",
              "    </tr>\n",
              "    <tr>\n",
              "      <th>...</th>\n",
              "      <td>...</td>\n",
              "      <td>...</td>\n",
              "    </tr>\n",
              "    <tr>\n",
              "      <th>2959</th>\n",
              "      <td>advertisement/2044905226.tif</td>\n",
              "      <td>advertisement</td>\n",
              "    </tr>\n",
              "    <tr>\n",
              "      <th>2960</th>\n",
              "      <td>advertisement/2058504145.tif</td>\n",
              "      <td>advertisement</td>\n",
              "    </tr>\n",
              "    <tr>\n",
              "      <th>2961</th>\n",
              "      <td>advertisement/91383464.tif</td>\n",
              "      <td>advertisement</td>\n",
              "    </tr>\n",
              "    <tr>\n",
              "      <th>2962</th>\n",
              "      <td>advertisement/6132.tif</td>\n",
              "      <td>advertisement</td>\n",
              "    </tr>\n",
              "    <tr>\n",
              "      <th>2963</th>\n",
              "      <td>advertisement/13025280.tif</td>\n",
              "      <td>advertisement</td>\n",
              "    </tr>\n",
              "  </tbody>\n",
              "</table>\n",
              "<p>2964 rows × 2 columns</p>\n",
              "</div>\n",
              "      <button class=\"colab-df-convert\" onclick=\"convertToInteractive('df-b59df112-9d26-4406-a5e4-4d1e225c4dde')\"\n",
              "              title=\"Convert this dataframe to an interactive table.\"\n",
              "              style=\"display:none;\">\n",
              "        \n",
              "  <svg xmlns=\"http://www.w3.org/2000/svg\" height=\"24px\"viewBox=\"0 0 24 24\"\n",
              "       width=\"24px\">\n",
              "    <path d=\"M0 0h24v24H0V0z\" fill=\"none\"/>\n",
              "    <path d=\"M18.56 5.44l.94 2.06.94-2.06 2.06-.94-2.06-.94-.94-2.06-.94 2.06-2.06.94zm-11 1L8.5 8.5l.94-2.06 2.06-.94-2.06-.94L8.5 2.5l-.94 2.06-2.06.94zm10 10l.94 2.06.94-2.06 2.06-.94-2.06-.94-.94-2.06-.94 2.06-2.06.94z\"/><path d=\"M17.41 7.96l-1.37-1.37c-.4-.4-.92-.59-1.43-.59-.52 0-1.04.2-1.43.59L10.3 9.45l-7.72 7.72c-.78.78-.78 2.05 0 2.83L4 21.41c.39.39.9.59 1.41.59.51 0 1.02-.2 1.41-.59l7.78-7.78 2.81-2.81c.8-.78.8-2.07 0-2.86zM5.41 20L4 18.59l7.72-7.72 1.47 1.35L5.41 20z\"/>\n",
              "  </svg>\n",
              "      </button>\n",
              "      \n",
              "  <style>\n",
              "    .colab-df-container {\n",
              "      display:flex;\n",
              "      flex-wrap:wrap;\n",
              "      gap: 12px;\n",
              "    }\n",
              "\n",
              "    .colab-df-convert {\n",
              "      background-color: #E8F0FE;\n",
              "      border: none;\n",
              "      border-radius: 50%;\n",
              "      cursor: pointer;\n",
              "      display: none;\n",
              "      fill: #1967D2;\n",
              "      height: 32px;\n",
              "      padding: 0 0 0 0;\n",
              "      width: 32px;\n",
              "    }\n",
              "\n",
              "    .colab-df-convert:hover {\n",
              "      background-color: #E2EBFA;\n",
              "      box-shadow: 0px 1px 2px rgba(60, 64, 67, 0.3), 0px 1px 3px 1px rgba(60, 64, 67, 0.15);\n",
              "      fill: #174EA6;\n",
              "    }\n",
              "\n",
              "    [theme=dark] .colab-df-convert {\n",
              "      background-color: #3B4455;\n",
              "      fill: #D2E3FC;\n",
              "    }\n",
              "\n",
              "    [theme=dark] .colab-df-convert:hover {\n",
              "      background-color: #434B5C;\n",
              "      box-shadow: 0px 1px 3px 1px rgba(0, 0, 0, 0.15);\n",
              "      filter: drop-shadow(0px 1px 2px rgba(0, 0, 0, 0.3));\n",
              "      fill: #FFFFFF;\n",
              "    }\n",
              "  </style>\n",
              "\n",
              "      <script>\n",
              "        const buttonEl =\n",
              "          document.querySelector('#df-b59df112-9d26-4406-a5e4-4d1e225c4dde button.colab-df-convert');\n",
              "        buttonEl.style.display =\n",
              "          google.colab.kernel.accessAllowed ? 'block' : 'none';\n",
              "\n",
              "        async function convertToInteractive(key) {\n",
              "          const element = document.querySelector('#df-b59df112-9d26-4406-a5e4-4d1e225c4dde');\n",
              "          const dataTable =\n",
              "            await google.colab.kernel.invokeFunction('convertToInteractive',\n",
              "                                                     [key], {});\n",
              "          if (!dataTable) return;\n",
              "\n",
              "          const docLinkHtml = 'Like what you see? Visit the ' +\n",
              "            '<a target=\"_blank\" href=https://colab.research.google.com/notebooks/data_table.ipynb>data table notebook</a>'\n",
              "            + ' to learn more about interactive tables.';\n",
              "          element.innerHTML = '';\n",
              "          dataTable['output_type'] = 'display_data';\n",
              "          await google.colab.output.renderOutput(dataTable, element);\n",
              "          const docLink = document.createElement('div');\n",
              "          docLink.innerHTML = docLinkHtml;\n",
              "          element.appendChild(docLink);\n",
              "        }\n",
              "      </script>\n",
              "    </div>\n",
              "  </div>\n",
              "  "
            ],
            "text/plain": [
              "                                               filename  \\\n",
              "0           scientific _publication/2502255678_5684.tif   \n",
              "1         scientific _publication/10046987_10047002.tif   \n",
              "2     scientific _publication/2046398702_2046398712.tif   \n",
              "3                scientific _publication/2505350166.tif   \n",
              "4                scientific _publication/2505421989.tif   \n",
              "...                                                 ...   \n",
              "2959                       advertisement/2044905226.tif   \n",
              "2960                       advertisement/2058504145.tif   \n",
              "2961                         advertisement/91383464.tif   \n",
              "2962                             advertisement/6132.tif   \n",
              "2963                         advertisement/13025280.tif   \n",
              "\n",
              "                        label  \n",
              "0     scientific _publication  \n",
              "1     scientific _publication  \n",
              "2     scientific _publication  \n",
              "3     scientific _publication  \n",
              "4     scientific _publication  \n",
              "...                       ...  \n",
              "2959            advertisement  \n",
              "2960            advertisement  \n",
              "2961            advertisement  \n",
              "2962            advertisement  \n",
              "2963            advertisement  \n",
              "\n",
              "[2964 rows x 2 columns]"
            ]
          },
          "execution_count": 7,
          "metadata": {},
          "output_type": "execute_result"
        }
      ],
      "source": [
        "df"
      ]
    },
    {
      "cell_type": "markdown",
      "metadata": {
        "id": "QHAh4XEeyhgU"
      },
      "source": [
        "Criação dos logits dos labels\n"
      ]
    },
    {
      "cell_type": "markdown",
      "metadata": {
        "id": "dLPupvyX4I0l"
      },
      "source": [
        "\n",
        "\n",
        "```\n",
        "Labels Nominais \"Categoricos\" -> Atributos Inteiros Ordinais -> to_categorial -> Logits\n",
        "```\n",
        "\n"
      ]
    },
    {
      "cell_type": "code",
      "execution_count": 8,
      "metadata": {
        "id": "blUfREYyS0rO"
      },
      "outputs": [],
      "source": [
        "X_train, X_test, y_train, y_test = train_test_split(X, y, test_size=0.3, random_state=42)\n",
        "X_valid, X_test, y_valid, y_test = train_test_split(X_test, y_test, test_size=0.6, random_state=42)"
      ]
    },
    {
      "cell_type": "code",
      "execution_count": 9,
      "metadata": {
        "id": "nqQ4kblDtYcN"
      },
      "outputs": [],
      "source": [
        "from keras.utils.np_utils import to_categorical\n",
        "\n",
        "train_labels = pd.Categorical(y_train)\n",
        "valid_labels = pd.Categorical(y_valid)\n",
        "test_labels = pd.Categorical(y_test)\n",
        "\n",
        "y_train_int = train_labels.codes\n",
        "y_valid_int = valid_labels.codes\n",
        "y_test_int = test_labels.codes\n",
        "\n",
        "y_train_logits = to_categorical(y_train_int)\n",
        "y_valid_logits = to_categorical(y_valid_int)\n",
        "y_test_logits = to_categorical(y_test_int)\n",
        "\n",
        "lista_train = []\n",
        "for i in range(0,len(X_train)):\n",
        "    lista_train.append([X_train[i],y_train[i]])\n",
        "\n",
        "lista_valid = []\n",
        "for i in range(0,len(X_valid)):\n",
        "    lista_valid.append([X_valid[i],y_valid[i]])\n",
        "\n",
        "lista_test = []\n",
        "for i in range(0,len(X_test)):\n",
        "    lista_test.append([X_test[i],y_test[i]])\n",
        "\n",
        "df_train = pd.DataFrame(lista_train,columns = ['filename','label'])\n",
        "df_valid = pd.DataFrame(lista_valid,columns = ['filename','label'])\n",
        "df_test = pd.DataFrame(lista_test,columns = ['filename','label'])"
      ]
    },
    {
      "cell_type": "code",
      "execution_count": 10,
      "metadata": {
        "colab": {
          "base_uri": "https://localhost:8080/"
        },
        "id": "DcyDI1rjk93U",
        "outputId": "39bbccb6-7134-439b-b2f5-9020e4a0e93a"
      },
      "outputs": [
        {
          "name": "stdout",
          "output_type": "stream",
          "text": [
            "Found 2072 validated image filenames belonging to 3 classes.\n",
            "Found 356 validated image filenames belonging to 3 classes.\n",
            "Found 533 validated image filenames belonging to 3 classes.\n"
          ]
        },
        {
          "name": "stderr",
          "output_type": "stream",
          "text": [
            "/usr/local/lib/python3.7/dist-packages/keras_preprocessing/image/dataframe_iterator.py:282: UserWarning: Found 2 invalid image filename(s) in x_col=\"filename\". These filename(s) will be ignored.\n",
            "  .format(n_invalid, x_col)\n",
            "/usr/local/lib/python3.7/dist-packages/keras_preprocessing/image/dataframe_iterator.py:282: UserWarning: Found 1 invalid image filename(s) in x_col=\"filename\". These filename(s) will be ignored.\n",
            "  .format(n_invalid, x_col)\n"
          ]
        },
        {
          "data": {
            "text/plain": [
              "(256, 256, 3)"
            ]
          },
          "execution_count": 10,
          "metadata": {},
          "output_type": "execute_result"
        }
      ],
      "source": [
        "train_datagen = ImageDataGenerator(rescale=1./255, \n",
        "                                   featurewise_center = True,\n",
        "                                   featurewise_std_normalization = True,\n",
        "                                   rotation_range=20,\n",
        "                                    width_shift_range=0.2,  \n",
        "                                    height_shift_range=0.2,   \n",
        "                                    horizontal_flip=True)\n",
        "\n",
        "agnostic_datagen = ImageDataGenerator(rescale=1./255)\n",
        "\n",
        "train_generator = train_datagen.flow_from_dataframe(df_train,\n",
        "                                              directory=path_documents,\n",
        "                                              x_col='filename',y_col='label',\n",
        "                                              class_mode='categorical',\n",
        "                                              shuffle=True)\n",
        "\n",
        "valid_generator = agnostic_datagen.flow_from_dataframe(df_valid,\n",
        "                                              directory=path_documents,\n",
        "                                              x_col='filename',y_col='label',\n",
        "                                              class_mode='categorical',\n",
        "                                              shuffle=True)\n",
        "\n",
        "test_generator = agnostic_datagen.flow_from_dataframe(df_test,\n",
        "                                              directory=path_documents,\n",
        "                                              x_col='filename',y_col='label',\n",
        "                                             class_mode='categorical',\n",
        "                                             shuffle=True)\n",
        "\n",
        "test_generator.image_shape"
      ]
    },
    {
      "cell_type": "markdown",
      "metadata": {
        "id": "wPBR_HmgloUP"
      },
      "source": [
        "Extrair os caracteres de cada documento"
      ]
    },
    {
      "cell_type": "code",
      "execution_count": 11,
      "metadata": {
        "colab": {
          "base_uri": "https://localhost:8080/"
        },
        "id": "BueS7LyvYyuT",
        "outputId": "0c9c4d6a-9384-40aa-c908-0ca78d0ebdba"
      },
      "outputs": [
        {
          "name": "stdout",
          "output_type": "stream",
          "text": [
            "Looking in indexes: https://pypi.org/simple, https://us-python.pkg.dev/colab-wheels/public/simple/\n",
            "Requirement already satisfied: keras-ocr in /usr/local/lib/python3.7/dist-packages (0.9.1)\n",
            "Requirement already satisfied: editdistance in /usr/local/lib/python3.7/dist-packages (from keras-ocr) (0.5.3)\n",
            "Requirement already satisfied: essential_generators in /usr/local/lib/python3.7/dist-packages (from keras-ocr) (1.0)\n",
            "Requirement already satisfied: fonttools in /usr/local/lib/python3.7/dist-packages (from keras-ocr) (4.36.0)\n",
            "Requirement already satisfied: imgaug in /usr/local/lib/python3.7/dist-packages (from keras-ocr) (0.4.0)\n",
            "Requirement already satisfied: shapely in /usr/local/lib/python3.7/dist-packages (from keras-ocr) (1.8.4)\n",
            "Requirement already satisfied: tqdm in /usr/local/lib/python3.7/dist-packages (from keras-ocr) (4.64.0)\n",
            "Requirement already satisfied: pyclipper in /usr/local/lib/python3.7/dist-packages (from keras-ocr) (1.3.0.post3)\n",
            "Requirement already satisfied: efficientnet==1.0.0 in /usr/local/lib/python3.7/dist-packages (from keras-ocr) (1.0.0)\n",
            "Requirement already satisfied: validators in /usr/local/lib/python3.7/dist-packages (from keras-ocr) (0.20.0)\n",
            "Requirement already satisfied: keras-applications<=1.0.8,>=1.0.7 in /usr/local/lib/python3.7/dist-packages (from efficientnet==1.0.0->keras-ocr) (1.0.8)\n",
            "Requirement already satisfied: scikit-image in /usr/local/lib/python3.7/dist-packages (from efficientnet==1.0.0->keras-ocr) (0.18.3)\n",
            "Requirement already satisfied: numpy>=1.9.1 in /usr/local/lib/python3.7/dist-packages (from keras-applications<=1.0.8,>=1.0.7->efficientnet==1.0.0->keras-ocr) (1.21.6)\n",
            "Requirement already satisfied: h5py in /usr/local/lib/python3.7/dist-packages (from keras-applications<=1.0.8,>=1.0.7->efficientnet==1.0.0->keras-ocr) (3.1.0)\n",
            "Requirement already satisfied: cached-property in /usr/local/lib/python3.7/dist-packages (from h5py->keras-applications<=1.0.8,>=1.0.7->efficientnet==1.0.0->keras-ocr) (1.5.2)\n",
            "Requirement already satisfied: six in /usr/local/lib/python3.7/dist-packages (from imgaug->keras-ocr) (1.15.0)\n",
            "Requirement already satisfied: scipy in /usr/local/lib/python3.7/dist-packages (from imgaug->keras-ocr) (1.7.3)\n",
            "Requirement already satisfied: Pillow in /usr/local/lib/python3.7/dist-packages (from imgaug->keras-ocr) (9.2.0)\n",
            "Requirement already satisfied: imageio in /usr/local/lib/python3.7/dist-packages (from imgaug->keras-ocr) (2.9.0)\n",
            "Requirement already satisfied: matplotlib in /usr/local/lib/python3.7/dist-packages (from imgaug->keras-ocr) (3.2.2)\n",
            "Requirement already satisfied: opencv-python in /usr/local/lib/python3.7/dist-packages (from imgaug->keras-ocr) (4.6.0.66)\n",
            "Requirement already satisfied: networkx>=2.0 in /usr/local/lib/python3.7/dist-packages (from scikit-image->efficientnet==1.0.0->keras-ocr) (2.6.3)\n",
            "Requirement already satisfied: tifffile>=2019.7.26 in /usr/local/lib/python3.7/dist-packages (from scikit-image->efficientnet==1.0.0->keras-ocr) (2021.11.2)\n",
            "Requirement already satisfied: PyWavelets>=1.1.1 in /usr/local/lib/python3.7/dist-packages (from scikit-image->efficientnet==1.0.0->keras-ocr) (1.3.0)\n",
            "Requirement already satisfied: kiwisolver>=1.0.1 in /usr/local/lib/python3.7/dist-packages (from matplotlib->imgaug->keras-ocr) (1.4.4)\n",
            "Requirement already satisfied: python-dateutil>=2.1 in /usr/local/lib/python3.7/dist-packages (from matplotlib->imgaug->keras-ocr) (2.8.2)\n",
            "Requirement already satisfied: pyparsing!=2.0.4,!=2.1.2,!=2.1.6,>=2.0.1 in /usr/local/lib/python3.7/dist-packages (from matplotlib->imgaug->keras-ocr) (3.0.9)\n",
            "Requirement already satisfied: cycler>=0.10 in /usr/local/lib/python3.7/dist-packages (from matplotlib->imgaug->keras-ocr) (0.11.0)\n",
            "Requirement already satisfied: typing-extensions in /usr/local/lib/python3.7/dist-packages (from kiwisolver>=1.0.1->matplotlib->imgaug->keras-ocr) (4.1.1)\n",
            "Requirement already satisfied: decorator>=3.4.0 in /usr/local/lib/python3.7/dist-packages (from validators->keras-ocr) (4.4.2)\n"
          ]
        }
      ],
      "source": [
        "!pip install keras-ocr"
      ]
    },
    {
      "cell_type": "code",
      "execution_count": 12,
      "metadata": {
        "colab": {
          "base_uri": "https://localhost:8080/"
        },
        "id": "PP6YWH7Uxwr0",
        "outputId": "03fa7806-13b7-4eac-bbc6-6ca33e98172e"
      },
      "outputs": [
        {
          "name": "stdout",
          "output_type": "stream",
          "text": [
            "Looking for /root/.keras-ocr/craft_mlt_25k.h5\n",
            "Looking for /root/.keras-ocr/crnn_kurapan.h5\n"
          ]
        }
      ],
      "source": [
        "import keras_ocr \n",
        "pipeline = keras_ocr.pipeline.Pipeline()"
      ]
    },
    {
      "cell_type": "code",
      "execution_count": 13,
      "metadata": {
        "id": "M8Q0aQ7wwD3Z"
      },
      "outputs": [],
      "source": [
        "path_documents_img = '/content/drive/MyDrive/Colab Notebooks/Módulo 2/full_3/'\n",
        "\n",
        "subfolder = path_documents_img  + 'advertisement'\n",
        "dataAd = []\n",
        "\n",
        "for img_file in os.listdir(subfolder):\n",
        "      dataAd.append(subfolder +'/'+ img_file)\n",
        "\n",
        "subfolder = path_documents_img + 'email'\n",
        "dataE = []\n",
        "\n",
        "for img_file in os.listdir(subfolder):\n",
        "      dataE.append(subfolder +'/'+img_file)\n",
        "\n",
        "subfolder = path_documents_img +  'scientific _publication'\n",
        "dataS = []\n",
        "\n",
        "for img_file in os.listdir(subfolder):\n",
        "      dataS.append(subfolder +'/'+img_file)\n"
      ]
    },
    {
      "cell_type": "code",
      "execution_count": 14,
      "metadata": {
        "id": "sMA2-o0Q1jAw"
      },
      "outputs": [],
      "source": [
        "dataset_ca = {}\n",
        "dataset_ca['advertisements'] = []"
      ]
    },
    {
      "cell_type": "code",
      "execution_count": 15,
      "metadata": {
        "id": "iT3JZxghvmQJ"
      },
      "outputs": [],
      "source": [
        "advertisementsim = []\n",
        "\n",
        "for path in dataAd:\n",
        "  advertisementsim.append(keras_ocr.tools.read(path))\n",
        "\n",
        "#prediction_groups = pipeline.recognize(advertisementsim)\n",
        "#for predicted_image in prediction_groups:\n",
        "  #for text, box in predicted_image:\n",
        "    #dataset_ca['advertisements'].append(text)"
      ]
    },
    {
      "cell_type": "code",
      "execution_count": 16,
      "metadata": {
        "id": "mvBJpqnB1u46"
      },
      "outputs": [],
      "source": [
        "#d = pd.DataFrame(dataset_ca,columns=['advertisements'])\n",
        "#d"
      ]
    },
    {
      "cell_type": "code",
      "execution_count": 17,
      "metadata": {
        "id": "Y02vpRf7xbwS"
      },
      "outputs": [],
      "source": [
        "emailim = []\n",
        "\n",
        "for path in dataE:\n",
        "  emailim.append(keras_ocr.tools.read(path))"
      ]
    },
    {
      "cell_type": "code",
      "execution_count": 18,
      "metadata": {
        "id": "alC5Hg_7xhqp"
      },
      "outputs": [],
      "source": [
        "publicationsm = []\n",
        "\n",
        "for path in dataS:\n",
        "  publicationsm.append(keras_ocr.tools.read(path))"
      ]
    },
    {
      "cell_type": "markdown",
      "metadata": {
        "id": "IPNKWpSLS-wq"
      },
      "source": [
        "Hyperparameters"
      ]
    },
    {
      "cell_type": "markdown",
      "metadata": {
        "id": "jgjRBxq32Hto"
      },
      "source": [
        "AlexNet (sem pré-treinamento)"
      ]
    },
    {
      "cell_type": "code",
      "execution_count": 19,
      "metadata": {
        "id": "o05pCfsZthJR"
      },
      "outputs": [],
      "source": [
        "dims = (224,224,3)\n",
        "num_classes = 3\n",
        "\n",
        "model = Sequential()\n",
        "# Parte 1 da AlexNet\n",
        "model.add(layers.experimental.preprocessing.Resizing(224,224,interpolation=\"bilinear\",input_shape=(224,224,3)))\n",
        "model.add(Conv2D(96,(11,11), strides=(4,4)))\n",
        "model.add(Activation(\"relu\"))\n",
        "model.add(MaxPooling2D((3, 3),strides=(2,2)))\n",
        "model.add(BatchNormalization())\n",
        "model.add(Dropout(0.4))\n",
        "\n",
        "# Parte 2 da AlexNet\n",
        "model.add(Conv2D(256,(5,5), strides=(1,1),padding=\"same\"))\n",
        "model.add(Activation(\"relu\"))\n",
        "model.add(MaxPooling2D((3, 3),strides=(2,2)))\n",
        "model.add(BatchNormalization())\n",
        "model.add(Dropout(0.4))\n",
        "\n",
        "# Parte 3 da AlexNet\n",
        "model.add(Conv2D(384,(3,3), strides=(1,1),padding=\"same\",activation='relu'))\n",
        "model.add(Dropout(0.4))\n",
        "\n",
        "model.add(Conv2D(384,(3,3), strides=(1,1),padding=\"same\",activation='relu'))\n",
        "\n",
        "model.add(Conv2D(256,(3,3), strides=(1,1),padding=\"same\",activation='relu'))\n",
        "\n",
        "model.add(MaxPooling2D((3, 3),strides=(2,2)))\n",
        "\n",
        "model.add(Flatten())\n",
        "\n",
        "model.add(Dense(4096))\n",
        "model.add(Activation(\"relu\"))\n",
        "model.add(Dropout(0.4))\n",
        "\n",
        "model.add(Dense(4096))\n",
        "model.add(Activation(\"relu\"))\n",
        "model.add(Dropout(0.4))\n",
        "\n",
        "model.add(Dense(num_classes))\n",
        "model.add(Activation(\"softmax\"))"
      ]
    },
    {
      "cell_type": "code",
      "execution_count": 20,
      "metadata": {
        "colab": {
          "base_uri": "https://localhost:8080/"
        },
        "id": "0Mr8eJ2ItlX-",
        "outputId": "68e3dbd8-b154-473e-f42a-9660db388619"
      },
      "outputs": [
        {
          "name": "stdout",
          "output_type": "stream",
          "text": [
            "Model: \"sequential\"\n",
            "_________________________________________________________________\n",
            " Layer (type)                Output Shape              Param #   \n",
            "=================================================================\n",
            " resizing (Resizing)         (None, 224, 224, 3)       0         \n",
            "                                                                 \n",
            " conv2d_2 (Conv2D)           (None, 54, 54, 96)        34944     \n",
            "                                                                 \n",
            " activation_1 (Activation)   (None, 54, 54, 96)        0         \n",
            "                                                                 \n",
            " max_pooling2d (MaxPooling2D  (None, 26, 26, 96)       0         \n",
            " )                                                               \n",
            "                                                                 \n",
            " batch_normalization (BatchN  (None, 26, 26, 96)       384       \n",
            " ormalization)                                                   \n",
            "                                                                 \n",
            " dropout (Dropout)           (None, 26, 26, 96)        0         \n",
            "                                                                 \n",
            " conv2d_3 (Conv2D)           (None, 26, 26, 256)       614656    \n",
            "                                                                 \n",
            " activation_2 (Activation)   (None, 26, 26, 256)       0         \n",
            "                                                                 \n",
            " max_pooling2d_1 (MaxPooling  (None, 12, 12, 256)      0         \n",
            " 2D)                                                             \n",
            "                                                                 \n",
            " batch_normalization_1 (Batc  (None, 12, 12, 256)      1024      \n",
            " hNormalization)                                                 \n",
            "                                                                 \n",
            " dropout_1 (Dropout)         (None, 12, 12, 256)       0         \n",
            "                                                                 \n",
            " conv2d_4 (Conv2D)           (None, 12, 12, 384)       885120    \n",
            "                                                                 \n",
            " dropout_2 (Dropout)         (None, 12, 12, 384)       0         \n",
            "                                                                 \n",
            " conv2d_5 (Conv2D)           (None, 12, 12, 384)       1327488   \n",
            "                                                                 \n",
            " conv2d_6 (Conv2D)           (None, 12, 12, 256)       884992    \n",
            "                                                                 \n",
            " max_pooling2d_2 (MaxPooling  (None, 5, 5, 256)        0         \n",
            " 2D)                                                             \n",
            "                                                                 \n",
            " flatten_1 (Flatten)         (None, 6400)              0         \n",
            "                                                                 \n",
            " dense_2 (Dense)             (None, 4096)              26218496  \n",
            "                                                                 \n",
            " activation_3 (Activation)   (None, 4096)              0         \n",
            "                                                                 \n",
            " dropout_3 (Dropout)         (None, 4096)              0         \n",
            "                                                                 \n",
            " dense_3 (Dense)             (None, 4096)              16781312  \n",
            "                                                                 \n",
            " activation_4 (Activation)   (None, 4096)              0         \n",
            "                                                                 \n",
            " dropout_4 (Dropout)         (None, 4096)              0         \n",
            "                                                                 \n",
            " dense_4 (Dense)             (None, 3)                 12291     \n",
            "                                                                 \n",
            " activation_5 (Activation)   (None, 3)                 0         \n",
            "                                                                 \n",
            "=================================================================\n",
            "Total params: 46,760,707\n",
            "Trainable params: 46,760,003\n",
            "Non-trainable params: 704\n",
            "_________________________________________________________________\n"
          ]
        }
      ],
      "source": [
        "model.summary()"
      ]
    },
    {
      "cell_type": "code",
      "execution_count": 21,
      "metadata": {
        "colab": {
          "base_uri": "https://localhost:8080/"
        },
        "id": "yvn0mLmbtmhI",
        "outputId": "c2fa573e-1521-4384-87a1-234324796143"
      },
      "outputs": [
        {
          "name": "stderr",
          "output_type": "stream",
          "text": [
            "/usr/local/lib/python3.7/dist-packages/keras/optimizer_v2/gradient_descent.py:102: UserWarning: The `lr` argument is deprecated, use `learning_rate` instead.\n",
            "  super(SGD, self).__init__(name, **kwargs)\n",
            "/usr/local/lib/python3.7/dist-packages/keras_preprocessing/image/image_data_generator.py:720: UserWarning: This ImageDataGenerator specifies `featurewise_center`, but it hasn't been fit on any training data. Fit it first by calling `.fit(numpy_data)`.\n",
            "  warnings.warn('This ImageDataGenerator specifies '\n",
            "/usr/local/lib/python3.7/dist-packages/keras_preprocessing/image/image_data_generator.py:728: UserWarning: This ImageDataGenerator specifies `featurewise_std_normalization`, but it hasn't been fit on any training data. Fit it first by calling `.fit(numpy_data)`.\n",
            "  warnings.warn('This ImageDataGenerator specifies '\n"
          ]
        },
        {
          "name": "stdout",
          "output_type": "stream",
          "text": [
            "Epoch 1/10\n",
            "65/65 [==============================] - 56s 652ms/step - loss: 1.3673 - accuracy: 0.3253 - val_loss: 1.0955 - val_accuracy: 0.3315\n",
            "Epoch 2/10\n",
            "65/65 [==============================] - 37s 573ms/step - loss: 1.2700 - accuracy: 0.3480 - val_loss: 1.0925 - val_accuracy: 0.3343\n",
            "Epoch 3/10\n",
            "65/65 [==============================] - 36s 559ms/step - loss: 1.2345 - accuracy: 0.3682 - val_loss: 1.0899 - val_accuracy: 0.3511\n",
            "Epoch 4/10\n",
            "65/65 [==============================] - 35s 543ms/step - loss: 1.2282 - accuracy: 0.3837 - val_loss: 1.0844 - val_accuracy: 0.3708\n",
            "Epoch 5/10\n",
            "65/65 [==============================] - 37s 574ms/step - loss: 1.2250 - accuracy: 0.3716 - val_loss: 1.0746 - val_accuracy: 0.6124\n",
            "Epoch 6/10\n",
            "65/65 [==============================] - 36s 546ms/step - loss: 1.1834 - accuracy: 0.3991 - val_loss: 1.0583 - val_accuracy: 0.6629\n",
            "Epoch 7/10\n",
            "65/65 [==============================] - 37s 569ms/step - loss: 1.1598 - accuracy: 0.4088 - val_loss: 1.0338 - val_accuracy: 0.7022\n",
            "Epoch 8/10\n",
            "65/65 [==============================] - 37s 576ms/step - loss: 1.1885 - accuracy: 0.3943 - val_loss: 1.0000 - val_accuracy: 0.7556\n",
            "Epoch 9/10\n",
            "65/65 [==============================] - 36s 548ms/step - loss: 1.1193 - accuracy: 0.4406 - val_loss: 0.9673 - val_accuracy: 0.7725\n",
            "Epoch 10/10\n",
            "65/65 [==============================] - 42s 650ms/step - loss: 1.1218 - accuracy: 0.4199 - val_loss: 0.9408 - val_accuracy: 0.8118\n"
          ]
        },
        {
          "data": {
            "text/plain": [
              "<keras.callbacks.History at 0x7f321ed17ed0>"
            ]
          },
          "execution_count": 21,
          "metadata": {},
          "output_type": "execute_result"
        }
      ],
      "source": [
        "sgd = SGD(lr=0.00001)\n",
        "\n",
        "model.compile(optimizer=sgd,loss=\"categorical_crossentropy\",metrics=['accuracy'])\n",
        "\n",
        "model.fit(train_generator,\n",
        "          epochs=10,\n",
        "          batch_size=16,\n",
        "          validation_data=valid_generator)"
      ]
    },
    {
      "cell_type": "markdown",
      "metadata": {
        "id": "ePcbQi77C7-N"
      },
      "source": [
        "```\n",
        "-> Treinamento requer muitas iterações -> overfitting\n",
        "\n",
        "+treinamento -validação -teste\n",
        "\n",
        "```"
      ]
    },
    {
      "cell_type": "code",
      "execution_count": 22,
      "metadata": {
        "colab": {
          "base_uri": "https://localhost:8080/",
          "height": 295
        },
        "id": "NC86UXnRYv5y",
        "outputId": "68b888eb-8ae8-49e5-9874-1c132dc82880"
      },
      "outputs": [
        {
          "data": {
            "image/png": "[encoded data removed]",
            "text/plain": [
              "<Figure size 432x288 with 1 Axes>"
            ]
          },
          "metadata": {
            "needs_background": "light"
          },
          "output_type": "display_data"
        }
      ],
      "source": [
        "history_fine = model.history\n",
        "loss = history_fine.history['loss']\n",
        "val_loss = history_fine.history['val_loss']\n",
        "\n",
        "plt.plot(history_fine.history['loss'])\n",
        "plt.plot(history_fine.history['val_loss'])\n",
        "plt.title('model loss')\n",
        "plt.ylabel('loss')\n",
        "plt.xlabel('epoch')\n",
        "plt.legend(['training set','validation set'], loc='upper left')\n",
        "plt.show()"
      ]
    },
    {
      "cell_type": "code",
      "execution_count": 23,
      "metadata": {
        "id": "aBPRpr3zZgGy"
      },
      "outputs": [],
      "source": [
        "y_prob = model.predict(test_generator)\n",
        "y_pred = np.argmax(y_prob,axis=1)"
      ]
    },
    {
      "cell_type": "code",
      "execution_count": 24,
      "metadata": {
        "colab": {
          "base_uri": "https://localhost:8080/"
        },
        "id": "byrttJh8Z0r3",
        "outputId": "2c7deb6f-773d-4523-82c9-155bf900350f"
      },
      "outputs": [
        {
          "data": {
            "text/plain": [
              "array([[0.282929  , 0.36393124, 0.35313976],\n",
              "       [0.26719147, 0.40098754, 0.331821  ],\n",
              "       [0.27983525, 0.36504418, 0.35512057],\n",
              "       ...,\n",
              "       [0.3027646 , 0.3411793 , 0.35605606],\n",
              "       [0.2584374 , 0.3992023 , 0.34236032],\n",
              "       [0.27445745, 0.39351815, 0.33202443]], dtype=float32)"
            ]
          },
          "execution_count": 24,
          "metadata": {},
          "output_type": "execute_result"
        }
      ],
      "source": [
        "y_prob"
      ]
    },
    {
      "cell_type": "code",
      "execution_count": 25,
      "metadata": {
        "colab": {
          "base_uri": "https://localhost:8080/"
        },
        "id": "7-cRd3ftZyqH",
        "outputId": "9b0624c8-a10d-4e91-f60d-7e2c0daf185a"
      },
      "outputs": [
        {
          "data": {
            "text/plain": [
              "array([1, 1, 1, 1, 1, 1, 2, 2, 2, 2, 0, 1, 0, 1, 2, 2, 2, 0, 2, 2, 2, 0,\n",
              "       1, 0, 0, 2, 2, 0, 0, 0, 1, 2, 0, 1, 1, 2, 0, 0, 2, 2, 0, 1, 2, 1,\n",
              "       0, 1, 2, 0, 2, 0, 2, 2, 1, 2, 0, 2, 2, 2, 2, 2, 1, 2, 0, 2, 0, 0,\n",
              "       1, 0, 2, 1, 0, 1, 0, 2, 0, 0, 0, 0, 2, 1, 1, 1, 1, 0, 1, 1, 2, 1,\n",
              "       1, 2, 0, 0, 1, 1, 1, 1, 1, 0, 0, 0, 2, 1, 2, 1, 0, 0, 0, 2, 0, 0,\n",
              "       2, 0, 0, 0, 0, 2, 1, 1, 2, 1, 1, 1, 1, 1, 2, 1, 0, 0, 2, 2, 1, 1,\n",
              "       1, 2, 0, 1, 2, 1, 1, 1, 2, 2, 1, 1, 0, 2, 0, 2, 2, 2, 2, 2, 0, 0,\n",
              "       2, 2, 1, 2, 0, 1, 0, 2, 1, 2, 1, 2, 2, 2, 0, 2, 0, 0, 1, 1, 2, 1,\n",
              "       0, 2, 2, 1, 1, 2, 1, 2, 2, 1, 2, 0, 2, 1, 1, 1, 1, 2, 2, 1, 0, 2,\n",
              "       0, 2, 1, 1, 2, 2, 0, 1, 1, 2, 0, 1, 2, 2, 2, 2, 2, 2, 2, 1, 2, 1,\n",
              "       2, 1, 2, 1, 1, 1, 1, 1, 1, 2, 2, 2, 0, 2, 1, 1, 2, 0, 1, 1, 2, 1,\n",
              "       2, 2, 1, 1, 0, 1, 2, 0, 0, 1, 0, 1, 2, 2, 2, 1, 1, 2, 1, 1, 0, 2,\n",
              "       1, 0, 1, 0, 2, 0, 1, 0, 2, 2, 1, 0, 2, 2, 1, 2, 0, 2, 2, 0, 2, 1,\n",
              "       2, 1, 1, 2, 0, 1, 0, 2, 0, 1, 1, 0, 1, 2, 0, 0, 0, 2, 1, 1, 0, 0,\n",
              "       0, 2, 1, 1, 2, 0, 1, 2, 1, 2, 1, 2, 1, 0, 0, 1, 1, 1, 2, 1, 2, 2,\n",
              "       2, 0, 0, 2, 1, 0, 1, 2, 2, 2, 1, 1, 0, 2, 1, 0, 2, 0, 1, 1, 2, 0,\n",
              "       2, 0, 0, 2, 1, 2, 2, 0, 2, 2, 2, 2, 1, 0, 0, 2, 1, 2, 1, 2, 1, 0,\n",
              "       1, 1, 1, 0, 0, 0, 2, 2, 0, 1, 1, 1, 1, 0, 2, 1, 2, 1, 1, 2, 2, 0,\n",
              "       1, 1, 1, 2, 0, 0, 0, 0, 2, 1, 0, 2, 2, 0, 2, 1, 1, 1, 0, 0, 2, 1,\n",
              "       1, 0, 1, 2, 2, 2, 0, 1, 2, 0, 0, 2, 2, 2, 1, 2, 0, 1, 2, 1, 2, 2,\n",
              "       1, 1, 1, 0, 2, 2, 1, 1, 1, 2, 1, 0, 2, 2, 1, 1, 2, 1, 1, 1, 2, 2,\n",
              "       2, 0, 2, 2, 2, 2, 2, 0, 1, 2, 2, 0, 2, 1, 1, 2, 0, 0, 0, 2, 2, 2,\n",
              "       2, 2, 0, 1, 0, 0, 0, 1, 1, 2, 0, 1, 2, 1, 1, 0, 1, 0, 0, 1, 0, 1,\n",
              "       2, 2, 0, 1, 1, 0, 1, 1, 1, 1, 1, 1, 2, 1, 1, 2, 2, 2, 1, 0, 2, 1,\n",
              "       0, 1, 2, 1, 1])"
            ]
          },
          "execution_count": 25,
          "metadata": {},
          "output_type": "execute_result"
        }
      ],
      "source": [
        "y_pred"
      ]
    },
    {
      "cell_type": "code",
      "execution_count": 26,
      "metadata": {
        "id": "O5TYn70LaB6o"
      },
      "outputs": [],
      "source": [
        "y_test = test_generator.classes"
      ]
    },
    {
      "cell_type": "code",
      "execution_count": 27,
      "metadata": {
        "colab": {
          "base_uri": "https://localhost:8080/"
        },
        "id": "PRM3KxVqaSnr",
        "outputId": "f330b3c4-ed84-483f-8534-413aff553469"
      },
      "outputs": [
        {
          "name": "stdout",
          "output_type": "stream",
          "text": [
            "              precision    recall  f1-score   support\n",
            "\n",
            "           0       0.32      0.24      0.27       190\n",
            "           1       0.31      0.37      0.33       164\n",
            "           2       0.28      0.31      0.30       179\n",
            "\n",
            "    accuracy                           0.30       533\n",
            "   macro avg       0.30      0.31      0.30       533\n",
            "weighted avg       0.30      0.30      0.30       533\n",
            "\n"
          ]
        }
      ],
      "source": [
        "from sklearn.metrics import classification_report\n",
        "print(classification_report(y_test,y_pred))"
      ]
    },
    {
      "cell_type": "markdown",
      "metadata": {
        "id": "EnEB-XmeCt19"
      },
      "source": [
        "Transferência de Aprendizado"
      ]
    },
    {
      "cell_type": "markdown",
      "metadata": {
        "id": "gniaWv8HoBzn"
      },
      "source": [
        "Grande quantidade de dados s/ risco de overfitting"
      ]
    },
    {
      "cell_type": "markdown",
      "metadata": {
        "id": "Z6VhlmJN3S8t"
      },
      "source": [
        "ResNet50 "
      ]
    },
    {
      "cell_type": "code",
      "execution_count": 31,
      "metadata": {
        "id": "x42zpqt2oA5r"
      },
      "outputs": [],
      "source": [
        "model_resnet_pt = Sequential()\n",
        "\n",
        "pre_trained_model = ResNet50(input_shape=(224,224,3),\n",
        "    include_top=False,\n",
        "    pooling ='avg',\n",
        "    weights=\"imagenet\")\n",
        "\n",
        "for layer in pre_trained_model.layers:\n",
        "    layer.trainable = False\n",
        "\n",
        "model_resnet_pt.add(pre_trained_model)\n",
        "model_resnet_pt.add(Flatten())\n",
        "\n",
        "model_resnet_pt.add(Dense(512))\n",
        "model_resnet_pt.add(Activation(\"relu\"))\n",
        "model_resnet_pt.add(Dropout(0.5))\n",
        "\n",
        "model_resnet_pt.add(Dense(num_classes))\n",
        "model_resnet_pt.add(Activation(\"softmax\"))"
      ]
    },
    {
      "cell_type": "code",
      "execution_count": 32,
      "metadata": {
        "colab": {
          "base_uri": "https://localhost:8080/"
        },
        "id": "nXgQhvWarhBv",
        "outputId": "312de4f4-9011-41d5-879c-b9f207b877fe"
      },
      "outputs": [
        {
          "name": "stdout",
          "output_type": "stream",
          "text": [
            "Epoch 1/10\n",
            "65/65 [==============================] - 42s 583ms/step - loss: 1.9354 - accuracy: 0.3195 - val_loss: 1.5690 - val_accuracy: 0.3343\n",
            "Epoch 2/10\n",
            "65/65 [==============================] - 39s 592ms/step - loss: 1.6395 - accuracy: 0.3132 - val_loss: 1.3151 - val_accuracy: 0.3146\n",
            "Epoch 3/10\n",
            "65/65 [==============================] - 37s 566ms/step - loss: 1.4507 - accuracy: 0.3258 - val_loss: 1.1773 - val_accuracy: 0.3090\n",
            "Epoch 4/10\n",
            "65/65 [==============================] - 39s 592ms/step - loss: 1.3151 - accuracy: 0.3562 - val_loss: 1.1072 - val_accuracy: 0.2781\n",
            "Epoch 5/10\n",
            "65/65 [==============================] - 40s 612ms/step - loss: 1.3471 - accuracy: 0.3171 - val_loss: 1.0681 - val_accuracy: 0.2921\n",
            "Epoch 6/10\n",
            "65/65 [==============================] - 37s 573ms/step - loss: 1.2855 - accuracy: 0.3403 - val_loss: 1.0472 - val_accuracy: 0.3258\n",
            "Epoch 7/10\n",
            "65/65 [==============================] - 39s 593ms/step - loss: 1.2811 - accuracy: 0.3533 - val_loss: 1.0334 - val_accuracy: 0.5169\n",
            "Epoch 8/10\n",
            "65/65 [==============================] - 39s 592ms/step - loss: 1.2525 - accuracy: 0.3711 - val_loss: 1.0220 - val_accuracy: 0.5871\n",
            "Epoch 9/10\n",
            "65/65 [==============================] - 37s 571ms/step - loss: 1.2379 - accuracy: 0.3755 - val_loss: 1.0133 - val_accuracy: 0.6433\n",
            "Epoch 10/10\n",
            "65/65 [==============================] - 39s 605ms/step - loss: 1.2518 - accuracy: 0.3663 - val_loss: 1.0055 - val_accuracy: 0.6629\n"
          ]
        }
      ],
      "source": [
        "sgd = SGD(learning_rate=0.00002)\n",
        "\n",
        "model_resnet_pt.compile(optimizer=sgd,loss=\"categorical_crossentropy\",metrics=['accuracy'])\n",
        "\n",
        "history_fine =model_resnet_pt.fit(train_generator,\n",
        "                        epochs=10,\n",
        "                        batch_size=32,\n",
        "                        validation_data=valid_generator)"
      ]
    },
    {
      "cell_type": "code",
      "execution_count": 33,
      "metadata": {
        "colab": {
          "base_uri": "https://localhost:8080/",
          "height": 295
        },
        "id": "itdqtuJqri0C",
        "outputId": "2b9a5130-fff6-4bb4-dd18-2d76a1f5f33a"
      },
      "outputs": [
        {
          "data": {
            "image/png": "[encoded data removed]",
            "text/plain": [
              "<Figure size 432x288 with 1 Axes>"
            ]
          },
          "metadata": {
            "needs_background": "light"
          },
          "output_type": "display_data"
        }
      ],
      "source": [
        "loss = history_fine.history['loss']\n",
        "val_loss = history_fine.history['val_loss']\n",
        "\n",
        "plt.plot(history_fine.history['loss'])\n",
        "plt.plot(history_fine.history['val_loss'])\n",
        "plt.title('model loss')\n",
        "plt.ylabel('loss')\n",
        "plt.xlabel('epoch')\n",
        "plt.legend(['training set','validation set'], loc='upper left')\n",
        "plt.show()"
      ]
    },
    {
      "cell_type": "code",
      "execution_count": 34,
      "metadata": {
        "id": "H19CScgQrlo_"
      },
      "outputs": [],
      "source": [
        "y_prob = model_resnet_pt.predict(test_generator)\n",
        "y_pred = np.argmax(y_prob,axis=1)"
      ]
    },
    {
      "cell_type": "code",
      "execution_count": 35,
      "metadata": {
        "colab": {
          "base_uri": "https://localhost:8080/"
        },
        "id": "YORU538-rnRs",
        "outputId": "69de0ea2-902c-446f-9312-106df7ad4c14"
      },
      "outputs": [
        {
          "name": "stdout",
          "output_type": "stream",
          "text": [
            "              precision    recall  f1-score   support\n",
            "\n",
            "           0       0.38      0.36      0.37       190\n",
            "           1       0.31      0.32      0.31       164\n",
            "           2       0.37      0.37      0.37       179\n",
            "\n",
            "    accuracy                           0.35       533\n",
            "   macro avg       0.35      0.35      0.35       533\n",
            "weighted avg       0.35      0.35      0.35       533\n",
            "\n"
          ]
        }
      ],
      "source": [
        "from sklearn.metrics import classification_report\n",
        "print(classification_report(y_test,y_pred))"
      ]
    }
  ],
  "metadata": {
    "accelerator": "GPU",
    "colab": {
      "collapsed_sections": [],
      "name": "Atividade 7.ipynb",
      "provenance": []
    },
    "gpuClass": "standard",
    "kernelspec": {
      "display_name": "Python 3",
      "name": "python3"
    },
    "language_info": {
      "name": "python"
    }
  },
  "nbformat": 4,
  "nbformat_minor": 0
}
