{
  "nbformat": 4,
  "nbformat_minor": 0,
  "metadata": {
    "colab": {
      "name": "Untitled0.ipynb",
      "provenance": [],
      "authorship_tag": "ABX9TyPTr5iIJDqvTx4NGVXQ55uq",
      "include_colab_link": true
    },
    "kernelspec": {
      "name": "python3",
      "display_name": "Python 3"
    },
    "language_info": {
      "name": "python"
    }
  },
  "cells": [
    {
      "cell_type": "markdown",
      "metadata": {
        "id": "view-in-github",
        "colab_type": "text"
      },
      "source": [
        "<a href=\"https://colab.research.google.com/github/Tong00020/PLN---2022/blob/main/Atividade%204/Atividade4.ipynb\" target=\"_parent\"><img src=\"https://colab.research.google.com/assets/colab-badge.svg\" alt=\"Open In Colab\"/></a>"
      ]
    },
    {
      "cell_type": "code",
      "execution_count": null,
      "metadata": {
        "id": "4ipew6OghwzP"
      },
      "outputs": [],
      "source": [
        "import pandas as pd\n",
        "import re\n",
        "import numpy as np\n",
        "import nltk\n",
        "import math"
      ]
    },
    {
      "cell_type": "code",
      "source": [
        "def fativations(x, tipo):\n",
        "  if tipo == 'sigmoide':\n",
        "      y = 1 / (1 + math.exp(-x))\n",
        "  else:\n",
        "    y = 'ERRO: Opcao invalida'\n",
        "\n",
        "  return float(y)\n"
      ],
      "metadata": {
        "id": "0jqdCKGDlITI"
      },
      "execution_count": null,
      "outputs": []
    },
    {
      "cell_type": "code",
      "source": [
        "def erro (y,yc):\n",
        "  return float((y - yc) * y * (1 - y))"
      ],
      "metadata": {
        "id": "CoVfv0C5D3RG"
      },
      "execution_count": null,
      "outputs": []
    },
    {
      "cell_type": "markdown",
      "source": [
        "Backpropagation da Perceptron"
      ],
      "metadata": {
        "id": "SgcYOaXjduzh"
      }
    },
    {
      "cell_type": "code",
      "source": [
        "data_and = [[0,0],[0,1],[1,0],[1,1]]\n",
        "labels = [0,1,1,0]\n",
        "bias = 0\n",
        "learning_rate = 0.2\n",
        "d=2\n",
        "X = np.array(data_and)\n",
        "Y = np.array(labels)\n",
        "\n",
        "pesos = np.random.randn(5)\n",
        "\n",
        "for a in range(0,25):\n",
        "  loss = 0\n",
        "  #print(f'Epoch: {t}')\n",
        "\n",
        "  for i,x in enumerate(X):\n",
        "    net = 0\n",
        "    for j in range(0,d):\n",
        "       net += pesos[j]*x[j]\n",
        "\n",
        "    y = fativations(net,'sigmoide')\n",
        "    erro = (labels[i] - y)**2\n",
        "    loss += erro\n",
        "\n",
        "    if labels[i] != y:\n",
        "      for j in range(0,len(x)):\n",
        "        delta = learning_rate*x[j]*(labels[i] - y)\n",
        "        pesos[j] += delta\n",
        "\n",
        "print(f'Loss funtion: {loss}')\n",
        "print(pesos)"
      ],
      "metadata": {
        "id": "RbM8_8d8dClv",
        "colab": {
          "base_uri": "https://localhost:8080/"
        },
        "outputId": "3dbd1329-27b5-4329-c082-832a9e1683a6"
      },
      "execution_count": null,
      "outputs": [
        {
          "output_type": "stream",
          "name": "stdout",
          "text": [
            "Loss funtion: 1.0545468390032828\n",
            "[-0.06903184 -0.14444686  2.0456048  -0.16258805 -0.39789304]\n"
          ]
        }
      ]
    },
    {
      "cell_type": "markdown",
      "source": [
        "\n",
        "Backpropagation XOR"
      ],
      "metadata": {
        "id": "sKs6iNo5d4Pu"
      }
    },
    {
      "cell_type": "code",
      "source": [
        "\n",
        "x = np.array([[0,0], [0,1], [1,0], [1,1]])\n",
        "y = np.array([[0,1,1,0]]).T\n",
        "learning_rate = 0.5\n",
        "\n",
        "X = x\n",
        "Y = y\n",
        "\n",
        "pesos = np.random.randn(5)\n",
        "#net = (pesos * x).sum() \n",
        "\n",
        "ann = {}\n",
        "ann['layer 0'] = {}\n",
        "ann['layer 1'] = {}\n",
        "\n",
        "net = 0\n",
        "\n",
        "layer1 = []\n",
        "layer1 = np.array([[0.4,0.6],[0.1,0.2]])\n",
        "\n",
        "layer2 = []\n",
        "layer2 = np.array([0.15,0.7])\n",
        "\n",
        "\n",
        "for i in range(len(X)):\n",
        "    \n",
        "  layer1_o = []\n",
        "  o0 = fativations(layer1[0][0]*X[i][0] + layer1[1][0]*X[i][1],\"sigmoide\")\n",
        "  o1 = fativations(layer1[0][1]*X[i][0] + layer1[1][1]* X[i][1],\"sigmoide\")\n",
        "  o2 = fativations(0.1,\"sigmoide\")\n",
        "  o = fativations(layer2[0]* o0 + layer2[1] * o1,\"sigmoide\")\n",
        "  layer1_o.append(o)\n",
        "  print(o)\n",
        "\n",
        "  n0 = layer2[0] * o0 * (1 - o0) \n",
        "  n1 = layer2[1] * o1 * (1 - o1)\n",
        "  erro_o3 = erro(o,y[1])\n",
        "\n",
        "  neg=0\n",
        "\n",
        "  if(y[1]-o < 0):\n",
        "    neg = (y[1]-o)*-1\n",
        "  else:\n",
        "    neg = (y[1]-o)\n",
        "\n",
        "  erro00 = erro_o3 * n0 * X[i][0]\n",
        "  erro01 = erro_o3 * n1 * X[i][0]\n",
        "  erro10 = erro_o3 * n0 * X[i][1]\n",
        "  erro11 = erro_o3 * n1 * X[i][1]\n",
        "  erro1_00 = neg * o0\n",
        "  erro1_10 = neg * o1\n",
        "\n",
        "  layer1[0][0] = learning_rate * layer1[0][0] * erro00\n",
        "  layer1[0][1] = learning_rate * layer1[0][1] * erro01\n",
        "  layer1[1][0] = learning_rate * layer1[1][0] * erro10\n",
        "  layer1[1][1] = learning_rate * layer1[1][1] * erro11\n",
        "  layer2[0] = learning_rate * layer2[0] * erro1_00\n",
        "  layer2[1] = learning_rate * layer2[1] * erro1_10 \n"
      ],
      "metadata": {
        "colab": {
          "base_uri": "https://localhost:8080/"
        },
        "id": "wFdgtpJ_SuGd",
        "outputId": "107083d6-1a44-461a-c844-e3402fd2a115"
      },
      "execution_count": 74,
      "outputs": [
        {
          "output_type": "stream",
          "name": "stdout",
          "text": [
            "0.6046790847140093\n",
            "0.5104991682706707\n",
            "0.5012850239621974\n",
            "0.500160215520895\n"
          ]
        }
      ]
    }
  ]
}