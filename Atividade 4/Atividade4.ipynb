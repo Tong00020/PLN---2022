{
  "cells": [
    {
      "cell_type": "code",
      "execution_count": 1,
      "metadata": {
        "id": "4ipew6OghwzP"
      },
      "outputs": [],
      "source": [
        "import pandas as pd\n",
        "import re\n",
        "import numpy as np\n",
        "import nltk\n",
        "import math"
      ]
    },
    {
      "cell_type": "code",
      "execution_count": 2,
      "metadata": {
        "id": "0jqdCKGDlITI"
      },
      "outputs": [],
      "source": [
        "def fativations(x, tipo):\n",
        "  if tipo == 'sigmoide':\n",
        "      y = 1 / (1 + math.exp(-x))\n",
        "  else:\n",
        "    y = 'ERRO: Opcao invalida'\n",
        "\n",
        "  return y\n"
      ]
    },
    {
      "cell_type": "markdown",
      "metadata": {
        "id": "SgcYOaXjduzh"
      },
      "source": [
        "Backpropagation da Perceptron"
      ]
    },
    {
      "cell_type": "code",
      "execution_count": 3,
      "metadata": {
        "colab": {
          "base_uri": "https://localhost:8080/"
        },
        "id": "RbM8_8d8dClv",
        "outputId": "f8bc046e-b3ea-4a76-c071-2dad16be8f8d"
      },
      "outputs": [
        {
          "name": "stdout",
          "output_type": "stream",
          "text": [
            "Loss funtion: 1.074893527869908\n",
            "[ 0.36554363 -0.48288666  0.52147116 -0.91451449  0.4913917 ]\n"
          ]
        }
      ],
      "source": [
        "data_and = [[0,0],[0,1],[1,0],[1,1]]\n",
        "labels = [0,1,1,0]\n",
        "bias = 0\n",
        "learning_rate = 0.2\n",
        "d=2\n",
        "X = np.array(data_and)\n",
        "Y = np.array(labels)\n",
        "\n",
        "pesos = np.random.randn(5)\n",
        "\n",
        "for a in range(0,25):\n",
        "  loss = 0\n",
        "  #print(f'Epoch: {t}')\n",
        "\n",
        "  for i,x in enumerate(X):\n",
        "    net = 0\n",
        "    for j in range(0,d):\n",
        "       net += pesos[j]*x[j]\n",
        "\n",
        "    y = fativations(net,'sigmoide')\n",
        "    erro = (labels[i] - y)**2\n",
        "    loss += erro\n",
        "\n",
        "    if labels[i] != y:\n",
        "      for j in range(0,len(x)):\n",
        "        delta = learning_rate*x[j]*(labels[i] - y)\n",
        "        pesos[j] += delta\n",
        "\n",
        "print(f'Loss funtion: {loss}')\n",
        "print(pesos)"
      ]
    },
    {
      "cell_type": "markdown",
      "metadata": {
        "id": "sKs6iNo5d4Pu"
      },
      "source": [
        "Backpropagation"
      ]
    },
    {
      "cell_type": "code",
      "execution_count": null,
      "metadata": {
        "id": "wFdgtpJ_SuGd"
      },
      "outputs": [],
      "source": [
        "x = np.array([0.5, 1.1, 0.1, 0.2, 0.7])\n",
        "X = [[0,0],[0,1],[1,0],[1,1]]\n",
        "\n",
        "pesos = np.array([float(\"-inf\")]*5)\n",
        "net = (pesos * x).sum() \n",
        "\n",
        "ann = {}\n",
        "\n",
        "ann['layer 0'] = {}\n",
        "ann['layer 1'] = {}\n",
        "\n",
        "net = 0\n",
        "\n",
        "layer1 = []\n",
        "layer1.append([0.4,0.6])\n",
        "layer1.append([0.1,0.2])\n",
        "\n",
        "layer2 = []\n",
        "layer2.append([0.15,0.7])\n",
        "\n",
        "for i,x in enumerate(X):\n",
        "\n",
        "    layer1_o = []\n",
        "    for neuron in range(0,len(layer1)):\n",
        "\n",
        "        for a in range(0, x[0]):\n",
        "            net += x[a]*layer1[neuron][a]\n",
        "        o = fativations(net,'sigmoide')\n",
        "        layer1_o.append(o)\n",
        "    \n",
        "    for a in range(0,len(layer1_o)):\n",
        "        net += layer1_o[a] * layer2[a]\n",
        "    y = fativations(net,'sigmoide')"
      ]
    },
    {
      "cell_type": "markdown",
      "metadata": {
        "id": "3JV-9UKpeKJh"
      },
      "source": [
        "backwards"
      ]
    },
    {
      "cell_type": "code",
      "execution_count": null,
      "metadata": {
        "id": "Fiq7wya0SsTm"
      },
      "outputs": [],
      "source": [
        "grad_layer1 = []\n",
        "layer = 0\n",
        "\n",
        "\n",
        "for i,x in enumerate(X):\n",
        "    \n",
        "    grad_layer2 = (y-labels(i))*(y*(1-y))\n",
        "\n",
        "for neuron in range(0,len(layer1)):\n",
        "    \n",
        "    grad_layer1[neuron] = layer1_o[neuron]*grad_layer2*layer2[neuron]\n",
        "\n",
        "for neuron in range(0,layer1):\n",
        "    for peso in range(0,layer1[0]):\n",
        "        layer[neuron][peso] += learning_rate*grad_layer1*layer[neuron][peso]\n",
        "\n",
        "##\n",
        "for neuron in range(0,len(layer2)):\n",
        "    grad_layer2[neuron] = layer1_o[neuron]*grad_layer2*layer2[neuron]\n",
        "\n",
        "for neuron in range(0,layer1):\n",
        "    for peso in range(0,layer1[0]):\n",
        "        layer[neuron][peso] += learning_rate*grad_layer2*layer[neuron][peso]\n"
      ]
    }
  ],
  "metadata": {
    "colab": {
      "name": "Untitled0.ipynb",
      "provenance": []
    },
    "kernelspec": {
      "display_name": "Python 3.9.13 64-bit (windows store)",
      "language": "python",
      "name": "python3"
    },
    "language_info": {
      "name": "python",
      "version": "3.9.13"
    },
    "vscode": {
      "interpreter": {
        "hash": "617363fb8f822c335b76070c7f97bf65c9b78ab41cc47ecc8e0662a7878c30f0"
      }
    }
  },
  "nbformat": 4,
  "nbformat_minor": 0
}
